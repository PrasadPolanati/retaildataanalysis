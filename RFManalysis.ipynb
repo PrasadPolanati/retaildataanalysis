{
 "cells": [
  {
   "cell_type": "markdown",
   "id": "12867539",
   "metadata": {},
   "source": [
    "## R F M Analysis on Online Retail Dataset"
   ]
  },
  {
   "cell_type": "code",
   "execution_count": 1,
   "id": "a484b2cb",
   "metadata": {},
   "outputs": [],
   "source": [
    "import pandas as pd\n",
    "import numpy as np"
   ]
  },
  {
   "cell_type": "code",
   "execution_count": 10,
   "id": "4fdc7553",
   "metadata": {},
   "outputs": [],
   "source": [
    "file_path = r\"C:\\Users\\prasa\\Desktop\\online_retail_II.xlsx\"\n",
    "df1 = pd.read_excel(file_path,sheet_name = \"Year 2009-2010\")\n",
    "df2 = pd.read_excel(file_path,sheet_name = \"Year 2010-2011\")"
   ]
  },
  {
   "cell_type": "code",
   "execution_count": 11,
   "id": "8f728fb4",
   "metadata": {},
   "outputs": [
    {
     "data": {
      "text/plain": [
       "((525461, 8), (541910, 8))"
      ]
     },
     "execution_count": 11,
     "metadata": {},
     "output_type": "execute_result"
    }
   ],
   "source": [
    "(df1.shape, df2.shape)"
   ]
  },
  {
   "cell_type": "code",
   "execution_count": 12,
   "id": "7bc9d073",
   "metadata": {},
   "outputs": [
    {
     "data": {
      "text/html": [
       "<div>\n",
       "<style scoped>\n",
       "    .dataframe tbody tr th:only-of-type {\n",
       "        vertical-align: middle;\n",
       "    }\n",
       "\n",
       "    .dataframe tbody tr th {\n",
       "        vertical-align: top;\n",
       "    }\n",
       "\n",
       "    .dataframe thead th {\n",
       "        text-align: right;\n",
       "    }\n",
       "</style>\n",
       "<table border=\"1\" class=\"dataframe\">\n",
       "  <thead>\n",
       "    <tr style=\"text-align: right;\">\n",
       "      <th></th>\n",
       "      <th>Invoice</th>\n",
       "      <th>StockCode</th>\n",
       "      <th>Description</th>\n",
       "      <th>Quantity</th>\n",
       "      <th>InvoiceDate</th>\n",
       "      <th>Price</th>\n",
       "      <th>Customer ID</th>\n",
       "      <th>Country</th>\n",
       "    </tr>\n",
       "  </thead>\n",
       "  <tbody>\n",
       "    <tr>\n",
       "      <th>0</th>\n",
       "      <td>489434</td>\n",
       "      <td>85048</td>\n",
       "      <td>15CM CHRISTMAS GLASS BALL 20 LIGHTS</td>\n",
       "      <td>12</td>\n",
       "      <td>2009-12-01 07:45:00</td>\n",
       "      <td>6.95</td>\n",
       "      <td>13085.0</td>\n",
       "      <td>United Kingdom</td>\n",
       "    </tr>\n",
       "    <tr>\n",
       "      <th>1</th>\n",
       "      <td>489434</td>\n",
       "      <td>79323P</td>\n",
       "      <td>PINK CHERRY LIGHTS</td>\n",
       "      <td>12</td>\n",
       "      <td>2009-12-01 07:45:00</td>\n",
       "      <td>6.75</td>\n",
       "      <td>13085.0</td>\n",
       "      <td>United Kingdom</td>\n",
       "    </tr>\n",
       "    <tr>\n",
       "      <th>2</th>\n",
       "      <td>489434</td>\n",
       "      <td>79323W</td>\n",
       "      <td>WHITE CHERRY LIGHTS</td>\n",
       "      <td>12</td>\n",
       "      <td>2009-12-01 07:45:00</td>\n",
       "      <td>6.75</td>\n",
       "      <td>13085.0</td>\n",
       "      <td>United Kingdom</td>\n",
       "    </tr>\n",
       "    <tr>\n",
       "      <th>3</th>\n",
       "      <td>489434</td>\n",
       "      <td>22041</td>\n",
       "      <td>RECORD FRAME 7\" SINGLE SIZE</td>\n",
       "      <td>48</td>\n",
       "      <td>2009-12-01 07:45:00</td>\n",
       "      <td>2.10</td>\n",
       "      <td>13085.0</td>\n",
       "      <td>United Kingdom</td>\n",
       "    </tr>\n",
       "    <tr>\n",
       "      <th>4</th>\n",
       "      <td>489434</td>\n",
       "      <td>21232</td>\n",
       "      <td>STRAWBERRY CERAMIC TRINKET BOX</td>\n",
       "      <td>24</td>\n",
       "      <td>2009-12-01 07:45:00</td>\n",
       "      <td>1.25</td>\n",
       "      <td>13085.0</td>\n",
       "      <td>United Kingdom</td>\n",
       "    </tr>\n",
       "  </tbody>\n",
       "</table>\n",
       "</div>"
      ],
      "text/plain": [
       "  Invoice StockCode                          Description  Quantity  \\\n",
       "0  489434     85048  15CM CHRISTMAS GLASS BALL 20 LIGHTS        12   \n",
       "1  489434    79323P                   PINK CHERRY LIGHTS        12   \n",
       "2  489434    79323W                  WHITE CHERRY LIGHTS        12   \n",
       "3  489434     22041         RECORD FRAME 7\" SINGLE SIZE         48   \n",
       "4  489434     21232       STRAWBERRY CERAMIC TRINKET BOX        24   \n",
       "\n",
       "          InvoiceDate  Price  Customer ID         Country  \n",
       "0 2009-12-01 07:45:00   6.95      13085.0  United Kingdom  \n",
       "1 2009-12-01 07:45:00   6.75      13085.0  United Kingdom  \n",
       "2 2009-12-01 07:45:00   6.75      13085.0  United Kingdom  \n",
       "3 2009-12-01 07:45:00   2.10      13085.0  United Kingdom  \n",
       "4 2009-12-01 07:45:00   1.25      13085.0  United Kingdom  "
      ]
     },
     "execution_count": 12,
     "metadata": {},
     "output_type": "execute_result"
    }
   ],
   "source": [
    "df1.head()"
   ]
  },
  {
   "cell_type": "markdown",
   "id": "0279531e",
   "metadata": {},
   "source": [
    "3. Missing Values"
   ]
  },
  {
   "cell_type": "code",
   "execution_count": 13,
   "id": "3524d658",
   "metadata": {},
   "outputs": [
    {
     "name": "stdout",
     "output_type": "stream",
     "text": [
      "Invoice             0\n",
      "StockCode           0\n",
      "Description      2928\n",
      "Quantity            0\n",
      "InvoiceDate         0\n",
      "Price               0\n",
      "Customer ID    107927\n",
      "Country             0\n",
      "dtype: int64\n"
     ]
    }
   ],
   "source": [
    "#check for missing values in the data\n",
    "missing_values = df1.isnull().sum()\n",
    "print(missing_values)"
   ]
  },
  {
   "cell_type": "code",
   "execution_count": 14,
   "id": "de572068",
   "metadata": {},
   "outputs": [
    {
     "name": "stdout",
     "output_type": "stream",
     "text": [
      "Invoice             0\n",
      "StockCode           0\n",
      "Description      1454\n",
      "Quantity            0\n",
      "InvoiceDate         0\n",
      "Price               0\n",
      "Customer ID    135080\n",
      "Country             0\n",
      "dtype: int64\n"
     ]
    }
   ],
   "source": [
    "missing_values = df2.isnull().sum()\n",
    "print(missing_values)"
   ]
  },
  {
   "cell_type": "code",
   "execution_count": 15,
   "id": "89a3ead6",
   "metadata": {},
   "outputs": [],
   "source": [
    "# Remove Missing Values\n",
    "df1.dropna(inplace = True)\n",
    "df2.dropna(inplace = True)"
   ]
  },
  {
   "cell_type": "code",
   "execution_count": 16,
   "id": "69c5b3c8",
   "metadata": {},
   "outputs": [
    {
     "data": {
      "text/html": [
       "<div>\n",
       "<style scoped>\n",
       "    .dataframe tbody tr th:only-of-type {\n",
       "        vertical-align: middle;\n",
       "    }\n",
       "\n",
       "    .dataframe tbody tr th {\n",
       "        vertical-align: top;\n",
       "    }\n",
       "\n",
       "    .dataframe thead th {\n",
       "        text-align: right;\n",
       "    }\n",
       "</style>\n",
       "<table border=\"1\" class=\"dataframe\">\n",
       "  <thead>\n",
       "    <tr style=\"text-align: right;\">\n",
       "      <th></th>\n",
       "      <th>count</th>\n",
       "      <th>mean</th>\n",
       "      <th>std</th>\n",
       "      <th>min</th>\n",
       "      <th>1%</th>\n",
       "      <th>5%</th>\n",
       "      <th>10%</th>\n",
       "      <th>20%</th>\n",
       "      <th>50%</th>\n",
       "      <th>90%</th>\n",
       "      <th>95%</th>\n",
       "      <th>99%</th>\n",
       "      <th>max</th>\n",
       "    </tr>\n",
       "  </thead>\n",
       "  <tbody>\n",
       "    <tr>\n",
       "      <th>Quantity</th>\n",
       "      <td>417534.0</td>\n",
       "      <td>12.758815</td>\n",
       "      <td>101.220424</td>\n",
       "      <td>-9360.0</td>\n",
       "      <td>-2.00</td>\n",
       "      <td>1.00</td>\n",
       "      <td>1.00</td>\n",
       "      <td>1.00</td>\n",
       "      <td>4.00</td>\n",
       "      <td>24.00</td>\n",
       "      <td>36.0</td>\n",
       "      <td>144.00</td>\n",
       "      <td>19152.00</td>\n",
       "    </tr>\n",
       "    <tr>\n",
       "      <th>Price</th>\n",
       "      <td>417534.0</td>\n",
       "      <td>3.887547</td>\n",
       "      <td>71.131797</td>\n",
       "      <td>0.0</td>\n",
       "      <td>0.29</td>\n",
       "      <td>0.42</td>\n",
       "      <td>0.65</td>\n",
       "      <td>0.85</td>\n",
       "      <td>1.95</td>\n",
       "      <td>6.75</td>\n",
       "      <td>8.5</td>\n",
       "      <td>14.95</td>\n",
       "      <td>25111.09</td>\n",
       "    </tr>\n",
       "    <tr>\n",
       "      <th>Customer ID</th>\n",
       "      <td>417534.0</td>\n",
       "      <td>15360.645478</td>\n",
       "      <td>1680.811316</td>\n",
       "      <td>12346.0</td>\n",
       "      <td>12435.00</td>\n",
       "      <td>12725.00</td>\n",
       "      <td>13042.00</td>\n",
       "      <td>13624.00</td>\n",
       "      <td>15311.00</td>\n",
       "      <td>17706.00</td>\n",
       "      <td>17913.0</td>\n",
       "      <td>18196.00</td>\n",
       "      <td>18287.00</td>\n",
       "    </tr>\n",
       "  </tbody>\n",
       "</table>\n",
       "</div>"
      ],
      "text/plain": [
       "                count          mean          std      min        1%        5%  \\\n",
       "Quantity     417534.0     12.758815   101.220424  -9360.0     -2.00      1.00   \n",
       "Price        417534.0      3.887547    71.131797      0.0      0.29      0.42   \n",
       "Customer ID  417534.0  15360.645478  1680.811316  12346.0  12435.00  12725.00   \n",
       "\n",
       "                  10%       20%       50%       90%      95%       99%  \\\n",
       "Quantity         1.00      1.00      4.00     24.00     36.0    144.00   \n",
       "Price            0.65      0.85      1.95      6.75      8.5     14.95   \n",
       "Customer ID  13042.00  13624.00  15311.00  17706.00  17913.0  18196.00   \n",
       "\n",
       "                  max  \n",
       "Quantity     19152.00  \n",
       "Price        25111.09  \n",
       "Customer ID  18287.00  "
      ]
     },
     "execution_count": 16,
     "metadata": {},
     "output_type": "execute_result"
    }
   ],
   "source": [
    "# 2009-2010\n",
    "df1.describe([0.01, 0.05, 0.10, 0.20, 0.90, 0.95, 0.99]).T"
   ]
  },
  {
   "cell_type": "code",
   "execution_count": 17,
   "id": "580deb88",
   "metadata": {},
   "outputs": [
    {
     "data": {
      "text/html": [
       "<div>\n",
       "<style scoped>\n",
       "    .dataframe tbody tr th:only-of-type {\n",
       "        vertical-align: middle;\n",
       "    }\n",
       "\n",
       "    .dataframe tbody tr th {\n",
       "        vertical-align: top;\n",
       "    }\n",
       "\n",
       "    .dataframe thead th {\n",
       "        text-align: right;\n",
       "    }\n",
       "</style>\n",
       "<table border=\"1\" class=\"dataframe\">\n",
       "  <thead>\n",
       "    <tr style=\"text-align: right;\">\n",
       "      <th></th>\n",
       "      <th>count</th>\n",
       "      <th>mean</th>\n",
       "      <th>std</th>\n",
       "      <th>min</th>\n",
       "      <th>1%</th>\n",
       "      <th>5%</th>\n",
       "      <th>10%</th>\n",
       "      <th>20%</th>\n",
       "      <th>50%</th>\n",
       "      <th>90%</th>\n",
       "      <th>95%</th>\n",
       "      <th>99%</th>\n",
       "      <th>max</th>\n",
       "    </tr>\n",
       "  </thead>\n",
       "  <tbody>\n",
       "    <tr>\n",
       "      <th>Quantity</th>\n",
       "      <td>406830.0</td>\n",
       "      <td>12.061276</td>\n",
       "      <td>248.693065</td>\n",
       "      <td>-80995.0</td>\n",
       "      <td>-2.00</td>\n",
       "      <td>1.00</td>\n",
       "      <td>1.00</td>\n",
       "      <td>1.00</td>\n",
       "      <td>5.00</td>\n",
       "      <td>24.00</td>\n",
       "      <td>36.0</td>\n",
       "      <td>120.0</td>\n",
       "      <td>80995.0</td>\n",
       "    </tr>\n",
       "    <tr>\n",
       "      <th>Price</th>\n",
       "      <td>406830.0</td>\n",
       "      <td>3.460507</td>\n",
       "      <td>69.315080</td>\n",
       "      <td>0.0</td>\n",
       "      <td>0.21</td>\n",
       "      <td>0.42</td>\n",
       "      <td>0.55</td>\n",
       "      <td>0.85</td>\n",
       "      <td>1.95</td>\n",
       "      <td>6.75</td>\n",
       "      <td>8.5</td>\n",
       "      <td>15.0</td>\n",
       "      <td>38970.0</td>\n",
       "    </tr>\n",
       "    <tr>\n",
       "      <th>Customer ID</th>\n",
       "      <td>406830.0</td>\n",
       "      <td>15287.684160</td>\n",
       "      <td>1713.603074</td>\n",
       "      <td>12346.0</td>\n",
       "      <td>12415.00</td>\n",
       "      <td>12626.00</td>\n",
       "      <td>12876.00</td>\n",
       "      <td>13536.00</td>\n",
       "      <td>15152.00</td>\n",
       "      <td>17719.00</td>\n",
       "      <td>17905.0</td>\n",
       "      <td>18212.0</td>\n",
       "      <td>18287.0</td>\n",
       "    </tr>\n",
       "  </tbody>\n",
       "</table>\n",
       "</div>"
      ],
      "text/plain": [
       "                count          mean          std      min        1%        5%  \\\n",
       "Quantity     406830.0     12.061276   248.693065 -80995.0     -2.00      1.00   \n",
       "Price        406830.0      3.460507    69.315080      0.0      0.21      0.42   \n",
       "Customer ID  406830.0  15287.684160  1713.603074  12346.0  12415.00  12626.00   \n",
       "\n",
       "                  10%       20%       50%       90%      95%      99%      max  \n",
       "Quantity         1.00      1.00      5.00     24.00     36.0    120.0  80995.0  \n",
       "Price            0.55      0.85      1.95      6.75      8.5     15.0  38970.0  \n",
       "Customer ID  12876.00  13536.00  15152.00  17719.00  17905.0  18212.0  18287.0  "
      ]
     },
     "execution_count": 17,
     "metadata": {},
     "output_type": "execute_result"
    }
   ],
   "source": [
    "# 2010-2011\n",
    "df2.describe([0.01, 0.05, 0.10, 0.20, 0.90, 0.95, 0.99]).T"
   ]
  },
  {
   "cell_type": "markdown",
   "id": "95913129",
   "metadata": {},
   "source": [
    "Remove negative values!\n",
    "\n",
    "Negative values are returned items."
   ]
  },
  {
   "cell_type": "code",
   "execution_count": 19,
   "id": "c2dac1f3",
   "metadata": {},
   "outputs": [],
   "source": [
    "df1 = df1[~df1[\"Invoice\"].str.contains(\"C\", na = False)]\n",
    "df2 = df2[~df2[\"Invoice\"].str.contains(\"C\", na = False)]"
   ]
  },
  {
   "cell_type": "code",
   "execution_count": 20,
   "id": "0de2fd1d",
   "metadata": {},
   "outputs": [
    {
     "data": {
      "text/html": [
       "<div>\n",
       "<style scoped>\n",
       "    .dataframe tbody tr th:only-of-type {\n",
       "        vertical-align: middle;\n",
       "    }\n",
       "\n",
       "    .dataframe tbody tr th {\n",
       "        vertical-align: top;\n",
       "    }\n",
       "\n",
       "    .dataframe thead th {\n",
       "        text-align: right;\n",
       "    }\n",
       "</style>\n",
       "<table border=\"1\" class=\"dataframe\">\n",
       "  <thead>\n",
       "    <tr style=\"text-align: right;\">\n",
       "      <th></th>\n",
       "      <th>count</th>\n",
       "      <th>mean</th>\n",
       "      <th>std</th>\n",
       "      <th>min</th>\n",
       "      <th>1%</th>\n",
       "      <th>5%</th>\n",
       "      <th>10%</th>\n",
       "      <th>20%</th>\n",
       "      <th>50%</th>\n",
       "      <th>90%</th>\n",
       "      <th>95%</th>\n",
       "      <th>99%</th>\n",
       "      <th>max</th>\n",
       "    </tr>\n",
       "  </thead>\n",
       "  <tbody>\n",
       "    <tr>\n",
       "      <th>Quantity</th>\n",
       "      <td>407695.0</td>\n",
       "      <td>13.586686</td>\n",
       "      <td>96.842229</td>\n",
       "      <td>1.0</td>\n",
       "      <td>1.00</td>\n",
       "      <td>1.00</td>\n",
       "      <td>1.00</td>\n",
       "      <td>2.00</td>\n",
       "      <td>5.00</td>\n",
       "      <td>24.00</td>\n",
       "      <td>36.0</td>\n",
       "      <td>144.00</td>\n",
       "      <td>19152.0</td>\n",
       "    </tr>\n",
       "    <tr>\n",
       "      <th>Price</th>\n",
       "      <td>407695.0</td>\n",
       "      <td>3.294188</td>\n",
       "      <td>34.756655</td>\n",
       "      <td>0.0</td>\n",
       "      <td>0.29</td>\n",
       "      <td>0.42</td>\n",
       "      <td>0.65</td>\n",
       "      <td>0.85</td>\n",
       "      <td>1.95</td>\n",
       "      <td>6.75</td>\n",
       "      <td>8.5</td>\n",
       "      <td>14.95</td>\n",
       "      <td>10953.5</td>\n",
       "    </tr>\n",
       "    <tr>\n",
       "      <th>Customer ID</th>\n",
       "      <td>407695.0</td>\n",
       "      <td>15368.504107</td>\n",
       "      <td>1679.795700</td>\n",
       "      <td>12346.0</td>\n",
       "      <td>12435.00</td>\n",
       "      <td>12731.00</td>\n",
       "      <td>13044.00</td>\n",
       "      <td>13635.00</td>\n",
       "      <td>15321.00</td>\n",
       "      <td>17706.00</td>\n",
       "      <td>17913.0</td>\n",
       "      <td>18196.00</td>\n",
       "      <td>18287.0</td>\n",
       "    </tr>\n",
       "  </tbody>\n",
       "</table>\n",
       "</div>"
      ],
      "text/plain": [
       "                count          mean          std      min        1%        5%  \\\n",
       "Quantity     407695.0     13.586686    96.842229      1.0      1.00      1.00   \n",
       "Price        407695.0      3.294188    34.756655      0.0      0.29      0.42   \n",
       "Customer ID  407695.0  15368.504107  1679.795700  12346.0  12435.00  12731.00   \n",
       "\n",
       "                  10%       20%       50%       90%      95%       99%  \\\n",
       "Quantity         1.00      2.00      5.00     24.00     36.0    144.00   \n",
       "Price            0.65      0.85      1.95      6.75      8.5     14.95   \n",
       "Customer ID  13044.00  13635.00  15321.00  17706.00  17913.0  18196.00   \n",
       "\n",
       "                 max  \n",
       "Quantity     19152.0  \n",
       "Price        10953.5  \n",
       "Customer ID  18287.0  "
      ]
     },
     "execution_count": 20,
     "metadata": {},
     "output_type": "execute_result"
    }
   ],
   "source": [
    "df1.describe([0.01, 0.05, 0.10, 0.20, 0.90, 0.95, 0.99]).T"
   ]
  },
  {
   "cell_type": "code",
   "execution_count": 21,
   "id": "f50b99db",
   "metadata": {},
   "outputs": [
    {
     "data": {
      "text/html": [
       "<div>\n",
       "<style scoped>\n",
       "    .dataframe tbody tr th:only-of-type {\n",
       "        vertical-align: middle;\n",
       "    }\n",
       "\n",
       "    .dataframe tbody tr th {\n",
       "        vertical-align: top;\n",
       "    }\n",
       "\n",
       "    .dataframe thead th {\n",
       "        text-align: right;\n",
       "    }\n",
       "</style>\n",
       "<table border=\"1\" class=\"dataframe\">\n",
       "  <thead>\n",
       "    <tr style=\"text-align: right;\">\n",
       "      <th></th>\n",
       "      <th>count</th>\n",
       "      <th>mean</th>\n",
       "      <th>std</th>\n",
       "      <th>min</th>\n",
       "      <th>1%</th>\n",
       "      <th>5%</th>\n",
       "      <th>10%</th>\n",
       "      <th>20%</th>\n",
       "      <th>50%</th>\n",
       "      <th>90%</th>\n",
       "      <th>95%</th>\n",
       "      <th>99%</th>\n",
       "      <th>max</th>\n",
       "    </tr>\n",
       "  </thead>\n",
       "  <tbody>\n",
       "    <tr>\n",
       "      <th>Quantity</th>\n",
       "      <td>397925.0</td>\n",
       "      <td>13.021793</td>\n",
       "      <td>180.419984</td>\n",
       "      <td>1.0</td>\n",
       "      <td>1.00</td>\n",
       "      <td>1.00</td>\n",
       "      <td>1.00</td>\n",
       "      <td>2.00</td>\n",
       "      <td>6.00</td>\n",
       "      <td>24.00</td>\n",
       "      <td>36.0</td>\n",
       "      <td>120.00</td>\n",
       "      <td>80995.00</td>\n",
       "    </tr>\n",
       "    <tr>\n",
       "      <th>Price</th>\n",
       "      <td>397925.0</td>\n",
       "      <td>3.116212</td>\n",
       "      <td>22.096773</td>\n",
       "      <td>0.0</td>\n",
       "      <td>0.21</td>\n",
       "      <td>0.42</td>\n",
       "      <td>0.55</td>\n",
       "      <td>0.85</td>\n",
       "      <td>1.95</td>\n",
       "      <td>6.35</td>\n",
       "      <td>8.5</td>\n",
       "      <td>14.95</td>\n",
       "      <td>8142.75</td>\n",
       "    </tr>\n",
       "    <tr>\n",
       "      <th>Customer ID</th>\n",
       "      <td>397925.0</td>\n",
       "      <td>15294.308601</td>\n",
       "      <td>1713.172738</td>\n",
       "      <td>12346.0</td>\n",
       "      <td>12415.00</td>\n",
       "      <td>12627.00</td>\n",
       "      <td>12883.00</td>\n",
       "      <td>13552.00</td>\n",
       "      <td>15159.00</td>\n",
       "      <td>17725.00</td>\n",
       "      <td>17912.0</td>\n",
       "      <td>18211.00</td>\n",
       "      <td>18287.00</td>\n",
       "    </tr>\n",
       "  </tbody>\n",
       "</table>\n",
       "</div>"
      ],
      "text/plain": [
       "                count          mean          std      min        1%        5%  \\\n",
       "Quantity     397925.0     13.021793   180.419984      1.0      1.00      1.00   \n",
       "Price        397925.0      3.116212    22.096773      0.0      0.21      0.42   \n",
       "Customer ID  397925.0  15294.308601  1713.172738  12346.0  12415.00  12627.00   \n",
       "\n",
       "                  10%       20%       50%       90%      95%       99%  \\\n",
       "Quantity         1.00      2.00      6.00     24.00     36.0    120.00   \n",
       "Price            0.55      0.85      1.95      6.35      8.5     14.95   \n",
       "Customer ID  12883.00  13552.00  15159.00  17725.00  17912.0  18211.00   \n",
       "\n",
       "                  max  \n",
       "Quantity     80995.00  \n",
       "Price         8142.75  \n",
       "Customer ID  18287.00  "
      ]
     },
     "execution_count": 21,
     "metadata": {},
     "output_type": "execute_result"
    }
   ],
   "source": [
    "df2.describe([0.01, 0.05, 0.10, 0.20, 0.90, 0.95, 0.99]).T"
   ]
  },
  {
   "cell_type": "code",
   "execution_count": 22,
   "id": "1f431120",
   "metadata": {},
   "outputs": [
    {
     "data": {
      "image/png": "[encoded data removed]",
      "text/plain": [
       "<Figure size 640x480 with 1 Axes>"
      ]
     },
     "metadata": {},
     "output_type": "display_data"
    }
   ],
   "source": [
    "df1[[\"Quantity\", \"Price\"]].boxplot();"
   ]
  },
  {
   "cell_type": "code",
   "execution_count": 29,
   "id": "8a21f307",
   "metadata": {},
   "outputs": [
    {
     "data": {
      "image/png": "[encoded data removed]",
      "text/plain": [
       "<Figure size 640x480 with 1 Axes>"
      ]
     },
     "metadata": {},
     "output_type": "display_data"
    }
   ],
   "source": [
    "import matplotlib.pyplot as plt\n",
    "df2[[\"Quantity\", \"Price\"]].boxplot()\n",
    "plt.show()"
   ]
  },
  {
   "cell_type": "markdown",
   "id": "5b721c8c",
   "metadata": {},
   "source": [
    "## 5. RFM Analysis\n",
    "## Recency"
   ]
  },
  {
   "cell_type": "code",
   "execution_count": 30,
   "id": "13ad396d",
   "metadata": {},
   "outputs": [
    {
     "name": "stdout",
     "output_type": "stream",
     "text": [
      "2009-2010: Min Date 2009-12-01 07:45:00 Max Date 2010-12-09 20:01:00\n",
      "2010-2011: Min Date 2010-12-01 08:26:00 Max Date 2011-12-09 12:50:00\n"
     ]
    }
   ],
   "source": [
    "print(\"2009-2010: Min Date\", df1[\"InvoiceDate\"].min(), \"Max Date\", df1[\"InvoiceDate\"].max())\n",
    "print(\"2010-2011: Min Date\", df2[\"InvoiceDate\"].min(), \"Max Date\", df2[\"InvoiceDate\"].max())"
   ]
  },
  {
   "cell_type": "code",
   "execution_count": 32,
   "id": "79dcb87a",
   "metadata": {},
   "outputs": [
    {
     "name": "stdout",
     "output_type": "stream",
     "text": [
      "             Recency\n",
      "Customer ID         \n",
      "12346.0          324\n",
      "12347.0            1\n",
      "12348.0           74\n",
      "12349.0           17\n",
      "12350.0          309\n"
     ]
    }
   ],
   "source": [
    "import datetime as dt  # Import datetime module\n",
    "\n",
    "# Calculate Recency\n",
    "recency1 = (dt.datetime(2010, 12, 9) - df1.groupby(\"Customer ID\").agg({\"InvoiceDate\": \"max\"})).rename(columns={\"InvoiceDate\": \"Recency\"})\n",
    "recency2 = (dt.datetime(2011, 12, 9) - df2.groupby(\"Customer ID\").agg({\"InvoiceDate\": \"max\"})).rename(columns={\"InvoiceDate\": \"Recency\"})\n",
    "\n",
    "# Convert timedelta to days\n",
    "recency1[\"Recency\"] = recency1[\"Recency\"].apply(lambda x: x.days)\n",
    "recency2[\"Recency\"] = recency2[\"Recency\"].apply(lambda x: x.days)\n",
    "\n",
    "print(recency2.head())\n"
   ]
  },
  {
   "cell_type": "code",
   "execution_count": 33,
   "id": "d4cc0de2",
   "metadata": {},
   "outputs": [
    {
     "data": {
      "text/html": [
       "<div>\n",
       "<style scoped>\n",
       "    .dataframe tbody tr th:only-of-type {\n",
       "        vertical-align: middle;\n",
       "    }\n",
       "\n",
       "    .dataframe tbody tr th {\n",
       "        vertical-align: top;\n",
       "    }\n",
       "\n",
       "    .dataframe thead th {\n",
       "        text-align: right;\n",
       "    }\n",
       "</style>\n",
       "<table border=\"1\" class=\"dataframe\">\n",
       "  <thead>\n",
       "    <tr style=\"text-align: right;\">\n",
       "      <th></th>\n",
       "      <th>Frequency</th>\n",
       "    </tr>\n",
       "    <tr>\n",
       "      <th>Customer ID</th>\n",
       "      <th></th>\n",
       "    </tr>\n",
       "  </thead>\n",
       "  <tbody>\n",
       "    <tr>\n",
       "      <th>12346.0</th>\n",
       "      <td>1</td>\n",
       "    </tr>\n",
       "    <tr>\n",
       "      <th>12347.0</th>\n",
       "      <td>7</td>\n",
       "    </tr>\n",
       "    <tr>\n",
       "      <th>12348.0</th>\n",
       "      <td>4</td>\n",
       "    </tr>\n",
       "    <tr>\n",
       "      <th>12349.0</th>\n",
       "      <td>1</td>\n",
       "    </tr>\n",
       "    <tr>\n",
       "      <th>12350.0</th>\n",
       "      <td>1</td>\n",
       "    </tr>\n",
       "    <tr>\n",
       "      <th>...</th>\n",
       "      <td>...</td>\n",
       "    </tr>\n",
       "    <tr>\n",
       "      <th>18280.0</th>\n",
       "      <td>1</td>\n",
       "    </tr>\n",
       "    <tr>\n",
       "      <th>18281.0</th>\n",
       "      <td>1</td>\n",
       "    </tr>\n",
       "    <tr>\n",
       "      <th>18282.0</th>\n",
       "      <td>2</td>\n",
       "    </tr>\n",
       "    <tr>\n",
       "      <th>18283.0</th>\n",
       "      <td>16</td>\n",
       "    </tr>\n",
       "    <tr>\n",
       "      <th>18287.0</th>\n",
       "      <td>3</td>\n",
       "    </tr>\n",
       "  </tbody>\n",
       "</table>\n",
       "<p>4339 rows × 1 columns</p>\n",
       "</div>"
      ],
      "text/plain": [
       "             Frequency\n",
       "Customer ID           \n",
       "12346.0              1\n",
       "12347.0              7\n",
       "12348.0              4\n",
       "12349.0              1\n",
       "12350.0              1\n",
       "...                ...\n",
       "18280.0              1\n",
       "18281.0              1\n",
       "18282.0              2\n",
       "18283.0             16\n",
       "18287.0              3\n",
       "\n",
       "[4339 rows x 1 columns]"
      ]
     },
     "execution_count": 33,
     "metadata": {},
     "output_type": "execute_result"
    }
   ],
   "source": [
    "freq1 = df1.groupby(\"Customer ID\").agg({\"InvoiceDate\":\"nunique\"}).rename(columns={\"InvoiceDate\": \"Frequency\"})\n",
    "freq2 = df2.groupby(\"Customer ID\").agg({\"InvoiceDate\":\"nunique\"}).rename(columns={\"InvoiceDate\": \"Frequency\"})\n",
    "\n",
    "freq2"
   ]
  },
  {
   "cell_type": "markdown",
   "id": "e0a22d27",
   "metadata": {},
   "source": [
    "## Monetary Value"
   ]
  },
  {
   "cell_type": "code",
   "execution_count": 34,
   "id": "19a67a2a",
   "metadata": {},
   "outputs": [
    {
     "data": {
      "text/html": [
       "<div>\n",
       "<style scoped>\n",
       "    .dataframe tbody tr th:only-of-type {\n",
       "        vertical-align: middle;\n",
       "    }\n",
       "\n",
       "    .dataframe tbody tr th {\n",
       "        vertical-align: top;\n",
       "    }\n",
       "\n",
       "    .dataframe thead th {\n",
       "        text-align: right;\n",
       "    }\n",
       "</style>\n",
       "<table border=\"1\" class=\"dataframe\">\n",
       "  <thead>\n",
       "    <tr style=\"text-align: right;\">\n",
       "      <th></th>\n",
       "      <th>Monetary</th>\n",
       "    </tr>\n",
       "    <tr>\n",
       "      <th>Customer ID</th>\n",
       "      <th></th>\n",
       "    </tr>\n",
       "  </thead>\n",
       "  <tbody>\n",
       "    <tr>\n",
       "      <th>12346.0</th>\n",
       "      <td>77183.60</td>\n",
       "    </tr>\n",
       "    <tr>\n",
       "      <th>12347.0</th>\n",
       "      <td>4310.00</td>\n",
       "    </tr>\n",
       "    <tr>\n",
       "      <th>12348.0</th>\n",
       "      <td>1797.24</td>\n",
       "    </tr>\n",
       "    <tr>\n",
       "      <th>12349.0</th>\n",
       "      <td>1757.55</td>\n",
       "    </tr>\n",
       "    <tr>\n",
       "      <th>12350.0</th>\n",
       "      <td>334.40</td>\n",
       "    </tr>\n",
       "  </tbody>\n",
       "</table>\n",
       "</div>"
      ],
      "text/plain": [
       "             Monetary\n",
       "Customer ID          \n",
       "12346.0      77183.60\n",
       "12347.0       4310.00\n",
       "12348.0       1797.24\n",
       "12349.0       1757.55\n",
       "12350.0        334.40"
      ]
     },
     "execution_count": 34,
     "metadata": {},
     "output_type": "execute_result"
    }
   ],
   "source": [
    "df1[\"TotalPrice\"] = df1[\"Quantity\"] * df1[\"Price\"]\n",
    "df2[\"TotalPrice\"] = df2[\"Quantity\"] * df2[\"Price\"]\n",
    "\n",
    "monetary1 = df1.groupby(\"Customer ID\").agg({\"TotalPrice\":\"sum\"}).rename(columns={\"TotalPrice\":\"Monetary\"})\n",
    "monetary2 = df2.groupby(\"Customer ID\").agg({\"TotalPrice\":\"sum\"}).rename(columns={\"TotalPrice\":\"Monetary\"})\n",
    "\n",
    "monetary2.head()"
   ]
  },
  {
   "cell_type": "code",
   "execution_count": 35,
   "id": "ad470381",
   "metadata": {},
   "outputs": [
    {
     "data": {
      "text/html": [
       "<div>\n",
       "<style scoped>\n",
       "    .dataframe tbody tr th:only-of-type {\n",
       "        vertical-align: middle;\n",
       "    }\n",
       "\n",
       "    .dataframe tbody tr th {\n",
       "        vertical-align: top;\n",
       "    }\n",
       "\n",
       "    .dataframe thead th {\n",
       "        text-align: right;\n",
       "    }\n",
       "</style>\n",
       "<table border=\"1\" class=\"dataframe\">\n",
       "  <thead>\n",
       "    <tr style=\"text-align: right;\">\n",
       "      <th></th>\n",
       "      <th>Recency</th>\n",
       "      <th>Frequency</th>\n",
       "      <th>Monetary</th>\n",
       "    </tr>\n",
       "    <tr>\n",
       "      <th>Customer ID</th>\n",
       "      <th></th>\n",
       "      <th></th>\n",
       "      <th></th>\n",
       "    </tr>\n",
       "  </thead>\n",
       "  <tbody>\n",
       "    <tr>\n",
       "      <th>12346.0</th>\n",
       "      <td>324</td>\n",
       "      <td>1</td>\n",
       "      <td>77183.60</td>\n",
       "    </tr>\n",
       "    <tr>\n",
       "      <th>12347.0</th>\n",
       "      <td>1</td>\n",
       "      <td>7</td>\n",
       "      <td>4310.00</td>\n",
       "    </tr>\n",
       "    <tr>\n",
       "      <th>12348.0</th>\n",
       "      <td>74</td>\n",
       "      <td>4</td>\n",
       "      <td>1797.24</td>\n",
       "    </tr>\n",
       "    <tr>\n",
       "      <th>12349.0</th>\n",
       "      <td>17</td>\n",
       "      <td>1</td>\n",
       "      <td>1757.55</td>\n",
       "    </tr>\n",
       "    <tr>\n",
       "      <th>12350.0</th>\n",
       "      <td>309</td>\n",
       "      <td>1</td>\n",
       "      <td>334.40</td>\n",
       "    </tr>\n",
       "  </tbody>\n",
       "</table>\n",
       "</div>"
      ],
      "text/plain": [
       "             Recency  Frequency  Monetary\n",
       "Customer ID                              \n",
       "12346.0          324          1  77183.60\n",
       "12347.0            1          7   4310.00\n",
       "12348.0           74          4   1797.24\n",
       "12349.0           17          1   1757.55\n",
       "12350.0          309          1    334.40"
      ]
     },
     "execution_count": 35,
     "metadata": {},
     "output_type": "execute_result"
    }
   ],
   "source": [
    "rfm1 = pd.concat([recency1, freq1, monetary1],  axis=1)\n",
    "rfm2 = pd.concat([recency2, freq2, monetary2],  axis=1)\n",
    "\n",
    "rfm2.head()"
   ]
  },
  {
   "cell_type": "markdown",
   "id": "4a6ff285",
   "metadata": {},
   "source": [
    "Create RFM Score "
   ]
  },
  {
   "cell_type": "code",
   "execution_count": 36,
   "id": "0f0a47f6",
   "metadata": {},
   "outputs": [
    {
     "data": {
      "text/html": [
       "<div>\n",
       "<style scoped>\n",
       "    .dataframe tbody tr th:only-of-type {\n",
       "        vertical-align: middle;\n",
       "    }\n",
       "\n",
       "    .dataframe tbody tr th {\n",
       "        vertical-align: top;\n",
       "    }\n",
       "\n",
       "    .dataframe thead th {\n",
       "        text-align: right;\n",
       "    }\n",
       "</style>\n",
       "<table border=\"1\" class=\"dataframe\">\n",
       "  <thead>\n",
       "    <tr style=\"text-align: right;\">\n",
       "      <th></th>\n",
       "      <th>Recency</th>\n",
       "      <th>Frequency</th>\n",
       "      <th>Monetary</th>\n",
       "      <th>RecencyScore</th>\n",
       "      <th>FrequencyScore</th>\n",
       "      <th>MonetaryScore</th>\n",
       "    </tr>\n",
       "    <tr>\n",
       "      <th>Customer ID</th>\n",
       "      <th></th>\n",
       "      <th></th>\n",
       "      <th></th>\n",
       "      <th></th>\n",
       "      <th></th>\n",
       "      <th></th>\n",
       "    </tr>\n",
       "  </thead>\n",
       "  <tbody>\n",
       "    <tr>\n",
       "      <th>12346.0</th>\n",
       "      <td>324</td>\n",
       "      <td>1</td>\n",
       "      <td>77183.60</td>\n",
       "      <td>1</td>\n",
       "      <td>1</td>\n",
       "      <td>5</td>\n",
       "    </tr>\n",
       "    <tr>\n",
       "      <th>12347.0</th>\n",
       "      <td>1</td>\n",
       "      <td>7</td>\n",
       "      <td>4310.00</td>\n",
       "      <td>5</td>\n",
       "      <td>5</td>\n",
       "      <td>5</td>\n",
       "    </tr>\n",
       "    <tr>\n",
       "      <th>12348.0</th>\n",
       "      <td>74</td>\n",
       "      <td>4</td>\n",
       "      <td>1797.24</td>\n",
       "      <td>2</td>\n",
       "      <td>4</td>\n",
       "      <td>4</td>\n",
       "    </tr>\n",
       "    <tr>\n",
       "      <th>12349.0</th>\n",
       "      <td>17</td>\n",
       "      <td>1</td>\n",
       "      <td>1757.55</td>\n",
       "      <td>4</td>\n",
       "      <td>1</td>\n",
       "      <td>4</td>\n",
       "    </tr>\n",
       "    <tr>\n",
       "      <th>12350.0</th>\n",
       "      <td>309</td>\n",
       "      <td>1</td>\n",
       "      <td>334.40</td>\n",
       "      <td>1</td>\n",
       "      <td>1</td>\n",
       "      <td>2</td>\n",
       "    </tr>\n",
       "  </tbody>\n",
       "</table>\n",
       "</div>"
      ],
      "text/plain": [
       "             Recency  Frequency  Monetary RecencyScore FrequencyScore  \\\n",
       "Customer ID                                                             \n",
       "12346.0          324          1  77183.60            1              1   \n",
       "12347.0            1          7   4310.00            5              5   \n",
       "12348.0           74          4   1797.24            2              4   \n",
       "12349.0           17          1   1757.55            4              1   \n",
       "12350.0          309          1    334.40            1              1   \n",
       "\n",
       "            MonetaryScore  \n",
       "Customer ID                \n",
       "12346.0                 5  \n",
       "12347.0                 5  \n",
       "12348.0                 4  \n",
       "12349.0                 4  \n",
       "12350.0                 2  "
      ]
     },
     "execution_count": 36,
     "metadata": {},
     "output_type": "execute_result"
    }
   ],
   "source": [
    "rfm1[\"RecencyScore\"] = pd.qcut(rfm1[\"Recency\"], 5, labels = [5, 4 , 3, 2, 1])\n",
    "rfm2[\"RecencyScore\"] = pd.qcut(rfm2[\"Recency\"], 5, labels = [5, 4 , 3, 2, 1])\n",
    "\n",
    "rfm1[\"FrequencyScore\"]= pd.qcut(rfm1[\"Frequency\"].rank(method=\"first\"),5, labels=[1,2,3,4,5])\n",
    "rfm2[\"FrequencyScore\"]= pd.qcut(rfm2[\"Frequency\"].rank(method=\"first\"),5, labels=[1,2,3,4,5])\n",
    "\n",
    "rfm1[\"MonetaryScore\"] = pd.qcut(rfm1['Monetary'], 5, labels = [1, 2, 3, 4, 5])\n",
    "rfm2[\"MonetaryScore\"] = pd.qcut(rfm2['Monetary'], 5, labels = [1, 2, 3, 4, 5])\n",
    "\n",
    "rfm2.head()"
   ]
  },
  {
   "cell_type": "code",
   "execution_count": 37,
   "id": "d1712dc1",
   "metadata": {},
   "outputs": [
    {
     "data": {
      "text/html": [
       "<div>\n",
       "<style scoped>\n",
       "    .dataframe tbody tr th:only-of-type {\n",
       "        vertical-align: middle;\n",
       "    }\n",
       "\n",
       "    .dataframe tbody tr th {\n",
       "        vertical-align: top;\n",
       "    }\n",
       "\n",
       "    .dataframe thead th {\n",
       "        text-align: right;\n",
       "    }\n",
       "</style>\n",
       "<table border=\"1\" class=\"dataframe\">\n",
       "  <thead>\n",
       "    <tr style=\"text-align: right;\">\n",
       "      <th></th>\n",
       "      <th>Recency</th>\n",
       "      <th>Frequency</th>\n",
       "      <th>Monetary</th>\n",
       "      <th>RecencyScore</th>\n",
       "      <th>FrequencyScore</th>\n",
       "      <th>MonetaryScore</th>\n",
       "      <th>RFM_SCORE</th>\n",
       "    </tr>\n",
       "    <tr>\n",
       "      <th>Customer ID</th>\n",
       "      <th></th>\n",
       "      <th></th>\n",
       "      <th></th>\n",
       "      <th></th>\n",
       "      <th></th>\n",
       "      <th></th>\n",
       "      <th></th>\n",
       "    </tr>\n",
       "  </thead>\n",
       "  <tbody>\n",
       "    <tr>\n",
       "      <th>12346.0</th>\n",
       "      <td>324</td>\n",
       "      <td>1</td>\n",
       "      <td>77183.60</td>\n",
       "      <td>1</td>\n",
       "      <td>1</td>\n",
       "      <td>5</td>\n",
       "      <td>115</td>\n",
       "    </tr>\n",
       "    <tr>\n",
       "      <th>12347.0</th>\n",
       "      <td>1</td>\n",
       "      <td>7</td>\n",
       "      <td>4310.00</td>\n",
       "      <td>5</td>\n",
       "      <td>5</td>\n",
       "      <td>5</td>\n",
       "      <td>555</td>\n",
       "    </tr>\n",
       "    <tr>\n",
       "      <th>12348.0</th>\n",
       "      <td>74</td>\n",
       "      <td>4</td>\n",
       "      <td>1797.24</td>\n",
       "      <td>2</td>\n",
       "      <td>4</td>\n",
       "      <td>4</td>\n",
       "      <td>244</td>\n",
       "    </tr>\n",
       "    <tr>\n",
       "      <th>12349.0</th>\n",
       "      <td>17</td>\n",
       "      <td>1</td>\n",
       "      <td>1757.55</td>\n",
       "      <td>4</td>\n",
       "      <td>1</td>\n",
       "      <td>4</td>\n",
       "      <td>414</td>\n",
       "    </tr>\n",
       "    <tr>\n",
       "      <th>12350.0</th>\n",
       "      <td>309</td>\n",
       "      <td>1</td>\n",
       "      <td>334.40</td>\n",
       "      <td>1</td>\n",
       "      <td>1</td>\n",
       "      <td>2</td>\n",
       "      <td>112</td>\n",
       "    </tr>\n",
       "  </tbody>\n",
       "</table>\n",
       "</div>"
      ],
      "text/plain": [
       "             Recency  Frequency  Monetary RecencyScore FrequencyScore  \\\n",
       "Customer ID                                                             \n",
       "12346.0          324          1  77183.60            1              1   \n",
       "12347.0            1          7   4310.00            5              5   \n",
       "12348.0           74          4   1797.24            2              4   \n",
       "12349.0           17          1   1757.55            4              1   \n",
       "12350.0          309          1    334.40            1              1   \n",
       "\n",
       "            MonetaryScore RFM_SCORE  \n",
       "Customer ID                          \n",
       "12346.0                 5       115  \n",
       "12347.0                 5       555  \n",
       "12348.0                 4       244  \n",
       "12349.0                 4       414  \n",
       "12350.0                 2       112  "
      ]
     },
     "execution_count": 37,
     "metadata": {},
     "output_type": "execute_result"
    }
   ],
   "source": [
    "# RFM Scores: Category\n",
    "rfm1[\"RFM_SCORE\"] = (rfm1['RecencyScore'].astype(str) + \n",
    "                     rfm1['FrequencyScore'].astype(str) + \n",
    "                     rfm1['MonetaryScore'].astype(str))\n",
    "\n",
    "rfm2[\"RFM_SCORE\"] = (rfm2['RecencyScore'].astype(str) + \n",
    "                     rfm2['FrequencyScore'].astype(str) + \n",
    "                     rfm2['MonetaryScore'].astype(str))\n",
    "\n",
    "rfm2.head()"
   ]
  },
  {
   "cell_type": "code",
   "execution_count": 38,
   "id": "390dfedf",
   "metadata": {},
   "outputs": [
    {
     "data": {
      "text/html": [
       "<div>\n",
       "<style scoped>\n",
       "    .dataframe tbody tr th:only-of-type {\n",
       "        vertical-align: middle;\n",
       "    }\n",
       "\n",
       "    .dataframe tbody tr th {\n",
       "        vertical-align: top;\n",
       "    }\n",
       "\n",
       "    .dataframe thead th {\n",
       "        text-align: right;\n",
       "    }\n",
       "</style>\n",
       "<table border=\"1\" class=\"dataframe\">\n",
       "  <thead>\n",
       "    <tr style=\"text-align: right;\">\n",
       "      <th></th>\n",
       "      <th>Recency</th>\n",
       "      <th>Frequency</th>\n",
       "      <th>Monetary</th>\n",
       "      <th>RecencyScore</th>\n",
       "      <th>FrequencyScore</th>\n",
       "      <th>MonetaryScore</th>\n",
       "      <th>RFM_SCORE</th>\n",
       "    </tr>\n",
       "    <tr>\n",
       "      <th>Customer ID</th>\n",
       "      <th></th>\n",
       "      <th></th>\n",
       "      <th></th>\n",
       "      <th></th>\n",
       "      <th></th>\n",
       "      <th></th>\n",
       "      <th></th>\n",
       "    </tr>\n",
       "  </thead>\n",
       "  <tbody>\n",
       "    <tr>\n",
       "      <th>12346.0</th>\n",
       "      <td>324</td>\n",
       "      <td>1</td>\n",
       "      <td>77183.60</td>\n",
       "      <td>1</td>\n",
       "      <td>1</td>\n",
       "      <td>5</td>\n",
       "      <td>115</td>\n",
       "    </tr>\n",
       "    <tr>\n",
       "      <th>12347.0</th>\n",
       "      <td>1</td>\n",
       "      <td>7</td>\n",
       "      <td>4310.00</td>\n",
       "      <td>5</td>\n",
       "      <td>5</td>\n",
       "      <td>5</td>\n",
       "      <td>555</td>\n",
       "    </tr>\n",
       "    <tr>\n",
       "      <th>12348.0</th>\n",
       "      <td>74</td>\n",
       "      <td>4</td>\n",
       "      <td>1797.24</td>\n",
       "      <td>2</td>\n",
       "      <td>4</td>\n",
       "      <td>4</td>\n",
       "      <td>244</td>\n",
       "    </tr>\n",
       "    <tr>\n",
       "      <th>12349.0</th>\n",
       "      <td>17</td>\n",
       "      <td>1</td>\n",
       "      <td>1757.55</td>\n",
       "      <td>4</td>\n",
       "      <td>1</td>\n",
       "      <td>4</td>\n",
       "      <td>414</td>\n",
       "    </tr>\n",
       "    <tr>\n",
       "      <th>12350.0</th>\n",
       "      <td>309</td>\n",
       "      <td>1</td>\n",
       "      <td>334.40</td>\n",
       "      <td>1</td>\n",
       "      <td>1</td>\n",
       "      <td>2</td>\n",
       "      <td>112</td>\n",
       "    </tr>\n",
       "  </tbody>\n",
       "</table>\n",
       "</div>"
      ],
      "text/plain": [
       "             Recency  Frequency  Monetary RecencyScore FrequencyScore  \\\n",
       "Customer ID                                                             \n",
       "12346.0          324          1  77183.60            1              1   \n",
       "12347.0            1          7   4310.00            5              5   \n",
       "12348.0           74          4   1797.24            2              4   \n",
       "12349.0           17          1   1757.55            4              1   \n",
       "12350.0          309          1    334.40            1              1   \n",
       "\n",
       "            MonetaryScore RFM_SCORE  \n",
       "Customer ID                          \n",
       "12346.0                 5       115  \n",
       "12347.0                 5       555  \n",
       "12348.0                 4       244  \n",
       "12349.0                 4       414  \n",
       "12350.0                 2       112  "
      ]
     },
     "execution_count": 38,
     "metadata": {},
     "output_type": "execute_result"
    }
   ],
   "source": [
    "# RFM Scores: Category\n",
    "rfm1[\"RFM_SCORE\"] = (rfm1['RecencyScore'].astype(str) + \n",
    "                     rfm1['FrequencyScore'].astype(str) + \n",
    "                     rfm1['MonetaryScore'].astype(str))\n",
    "\n",
    "rfm2[\"RFM_SCORE\"] = (rfm2['RecencyScore'].astype(str) + \n",
    "                     rfm2['FrequencyScore'].astype(str) + \n",
    "                     rfm2['MonetaryScore'].astype(str))\n",
    "\n",
    "rfm2.head()"
   ]
  },
  {
   "cell_type": "code",
   "execution_count": 39,
   "id": "06786a27",
   "metadata": {},
   "outputs": [
    {
     "data": {
      "text/html": [
       "<div>\n",
       "<style scoped>\n",
       "    .dataframe tbody tr th:only-of-type {\n",
       "        vertical-align: middle;\n",
       "    }\n",
       "\n",
       "    .dataframe tbody tr th {\n",
       "        vertical-align: top;\n",
       "    }\n",
       "\n",
       "    .dataframe thead th {\n",
       "        text-align: right;\n",
       "    }\n",
       "</style>\n",
       "<table border=\"1\" class=\"dataframe\">\n",
       "  <thead>\n",
       "    <tr style=\"text-align: right;\">\n",
       "      <th></th>\n",
       "      <th>Recency</th>\n",
       "      <th>Frequency</th>\n",
       "      <th>Monetary</th>\n",
       "      <th>RecencyScore</th>\n",
       "      <th>FrequencyScore</th>\n",
       "      <th>MonetaryScore</th>\n",
       "      <th>RFM_SCORE</th>\n",
       "      <th>Segment</th>\n",
       "    </tr>\n",
       "    <tr>\n",
       "      <th>Customer ID</th>\n",
       "      <th></th>\n",
       "      <th></th>\n",
       "      <th></th>\n",
       "      <th></th>\n",
       "      <th></th>\n",
       "      <th></th>\n",
       "      <th></th>\n",
       "      <th></th>\n",
       "    </tr>\n",
       "  </thead>\n",
       "  <tbody>\n",
       "    <tr>\n",
       "      <th>12346.0</th>\n",
       "      <td>324</td>\n",
       "      <td>1</td>\n",
       "      <td>77183.60</td>\n",
       "      <td>1</td>\n",
       "      <td>1</td>\n",
       "      <td>5</td>\n",
       "      <td>115</td>\n",
       "      <td>Hibernating</td>\n",
       "    </tr>\n",
       "    <tr>\n",
       "      <th>12347.0</th>\n",
       "      <td>1</td>\n",
       "      <td>7</td>\n",
       "      <td>4310.00</td>\n",
       "      <td>5</td>\n",
       "      <td>5</td>\n",
       "      <td>5</td>\n",
       "      <td>555</td>\n",
       "      <td>Champions</td>\n",
       "    </tr>\n",
       "    <tr>\n",
       "      <th>12348.0</th>\n",
       "      <td>74</td>\n",
       "      <td>4</td>\n",
       "      <td>1797.24</td>\n",
       "      <td>2</td>\n",
       "      <td>4</td>\n",
       "      <td>4</td>\n",
       "      <td>244</td>\n",
       "      <td>At Risk</td>\n",
       "    </tr>\n",
       "    <tr>\n",
       "      <th>12349.0</th>\n",
       "      <td>17</td>\n",
       "      <td>1</td>\n",
       "      <td>1757.55</td>\n",
       "      <td>4</td>\n",
       "      <td>1</td>\n",
       "      <td>4</td>\n",
       "      <td>414</td>\n",
       "      <td>Promising</td>\n",
       "    </tr>\n",
       "    <tr>\n",
       "      <th>12350.0</th>\n",
       "      <td>309</td>\n",
       "      <td>1</td>\n",
       "      <td>334.40</td>\n",
       "      <td>1</td>\n",
       "      <td>1</td>\n",
       "      <td>2</td>\n",
       "      <td>112</td>\n",
       "      <td>Hibernating</td>\n",
       "    </tr>\n",
       "  </tbody>\n",
       "</table>\n",
       "</div>"
      ],
      "text/plain": [
       "             Recency  Frequency  Monetary RecencyScore FrequencyScore  \\\n",
       "Customer ID                                                             \n",
       "12346.0          324          1  77183.60            1              1   \n",
       "12347.0            1          7   4310.00            5              5   \n",
       "12348.0           74          4   1797.24            2              4   \n",
       "12349.0           17          1   1757.55            4              1   \n",
       "12350.0          309          1    334.40            1              1   \n",
       "\n",
       "            MonetaryScore RFM_SCORE      Segment  \n",
       "Customer ID                                       \n",
       "12346.0                 5       115  Hibernating  \n",
       "12347.0                 5       555    Champions  \n",
       "12348.0                 4       244      At Risk  \n",
       "12349.0                 4       414    Promising  \n",
       "12350.0                 2       112  Hibernating  "
      ]
     },
     "execution_count": 39,
     "metadata": {},
     "output_type": "execute_result"
    }
   ],
   "source": [
    "seg_map = {\n",
    "    r'[1-2][1-2]': 'Hibernating',\n",
    "    r'[1-2][3-4]': 'At Risk',\n",
    "    r'[1-2]5': 'Can\\'t Loose',\n",
    "    r'3[1-2]': 'About to Sleep',\n",
    "    r'33': 'Need Attention',\n",
    "    r'[3-4][4-5]': 'Loyal Customers',\n",
    "    r'41': 'Promising',\n",
    "    r'51': 'New Customers',\n",
    "    r'[4-5][2-3]': 'Potential Loyalists',\n",
    "    r'5[4-5]': 'Champions'\n",
    "}\n",
    "\n",
    "rfm1['Segment'] = rfm1['RecencyScore'].astype(str) + rfm1['FrequencyScore'].astype(str)\n",
    "rfm1['Segment'] = rfm1['Segment'].replace(seg_map, regex=True)\n",
    "\n",
    "rfm2['Segment'] = rfm2['RecencyScore'].astype(str) + rfm2['FrequencyScore'].astype(str)\n",
    "rfm2['Segment'] = rfm2['Segment'].replace(seg_map, regex=True)\n",
    "\n",
    "rfm2.head()"
   ]
  },
  {
   "cell_type": "markdown",
   "id": "7239bb4f",
   "metadata": {},
   "source": [
    "## Summary Statistics"
   ]
  },
  {
   "cell_type": "code",
   "execution_count": 40,
   "id": "7fcc8d35",
   "metadata": {},
   "outputs": [
    {
     "data": {
      "text/html": [
       "<div>\n",
       "<style scoped>\n",
       "    .dataframe tbody tr th:only-of-type {\n",
       "        vertical-align: middle;\n",
       "    }\n",
       "\n",
       "    .dataframe tbody tr th {\n",
       "        vertical-align: top;\n",
       "    }\n",
       "\n",
       "    .dataframe thead th {\n",
       "        text-align: right;\n",
       "    }\n",
       "</style>\n",
       "<table border=\"1\" class=\"dataframe\">\n",
       "  <thead>\n",
       "    <tr style=\"text-align: right;\">\n",
       "      <th></th>\n",
       "      <th>Recency_mean</th>\n",
       "      <th>Recency_median</th>\n",
       "      <th>Recency_count</th>\n",
       "      <th>Recency_std</th>\n",
       "      <th>Frequency_mean</th>\n",
       "      <th>Frequency_median</th>\n",
       "      <th>Frequency_count</th>\n",
       "      <th>Frequency_std</th>\n",
       "      <th>Monetary_mean</th>\n",
       "      <th>Monetary_median</th>\n",
       "      <th>Monetary_count</th>\n",
       "      <th>Monetary_std</th>\n",
       "    </tr>\n",
       "    <tr>\n",
       "      <th>Segment</th>\n",
       "      <th></th>\n",
       "      <th></th>\n",
       "      <th></th>\n",
       "      <th></th>\n",
       "      <th></th>\n",
       "      <th></th>\n",
       "      <th></th>\n",
       "      <th></th>\n",
       "      <th></th>\n",
       "      <th></th>\n",
       "      <th></th>\n",
       "      <th></th>\n",
       "    </tr>\n",
       "  </thead>\n",
       "  <tbody>\n",
       "    <tr>\n",
       "      <th>About to Sleep</th>\n",
       "      <td>51.851312</td>\n",
       "      <td>51.0</td>\n",
       "      <td>343</td>\n",
       "      <td>10.259985</td>\n",
       "      <td>1.201166</td>\n",
       "      <td>1.0</td>\n",
       "      <td>343</td>\n",
       "      <td>0.401458</td>\n",
       "      <td>442.266851</td>\n",
       "      <td>317.760</td>\n",
       "      <td>343</td>\n",
       "      <td>417.303449</td>\n",
       "    </tr>\n",
       "    <tr>\n",
       "      <th>At Risk</th>\n",
       "      <td>149.937807</td>\n",
       "      <td>128.0</td>\n",
       "      <td>611</td>\n",
       "      <td>69.978119</td>\n",
       "      <td>3.070376</td>\n",
       "      <td>3.0</td>\n",
       "      <td>611</td>\n",
       "      <td>1.092428</td>\n",
       "      <td>1188.207056</td>\n",
       "      <td>760.190</td>\n",
       "      <td>611</td>\n",
       "      <td>1844.174551</td>\n",
       "    </tr>\n",
       "    <tr>\n",
       "      <th>Can't Loose</th>\n",
       "      <td>121.717949</td>\n",
       "      <td>106.5</td>\n",
       "      <td>78</td>\n",
       "      <td>49.724409</td>\n",
       "      <td>9.038462</td>\n",
       "      <td>7.5</td>\n",
       "      <td>78</td>\n",
       "      <td>5.782738</td>\n",
       "      <td>4072.967051</td>\n",
       "      <td>2316.485</td>\n",
       "      <td>78</td>\n",
       "      <td>5275.397061</td>\n",
       "    </tr>\n",
       "    <tr>\n",
       "      <th>Champions</th>\n",
       "      <td>5.119155</td>\n",
       "      <td>5.0</td>\n",
       "      <td>663</td>\n",
       "      <td>4.619934</td>\n",
       "      <td>12.499246</td>\n",
       "      <td>8.0</td>\n",
       "      <td>663</td>\n",
       "      <td>17.189180</td>\n",
       "      <td>6852.264167</td>\n",
       "      <td>2508.320</td>\n",
       "      <td>663</td>\n",
       "      <td>21556.377144</td>\n",
       "    </tr>\n",
       "    <tr>\n",
       "      <th>Hibernating</th>\n",
       "      <td>212.309055</td>\n",
       "      <td>211.0</td>\n",
       "      <td>1016</td>\n",
       "      <td>89.780306</td>\n",
       "      <td>1.126969</td>\n",
       "      <td>1.0</td>\n",
       "      <td>1016</td>\n",
       "      <td>0.333102</td>\n",
       "      <td>401.982150</td>\n",
       "      <td>250.155</td>\n",
       "      <td>1016</td>\n",
       "      <td>775.076212</td>\n",
       "    </tr>\n",
       "    <tr>\n",
       "      <th>Loyal Customers</th>\n",
       "      <td>34.275908</td>\n",
       "      <td>29.0</td>\n",
       "      <td>743</td>\n",
       "      <td>16.064746</td>\n",
       "      <td>6.816958</td>\n",
       "      <td>5.0</td>\n",
       "      <td>743</td>\n",
       "      <td>4.376349</td>\n",
       "      <td>2743.484342</td>\n",
       "      <td>1818.710</td>\n",
       "      <td>743</td>\n",
       "      <td>3255.108992</td>\n",
       "    </tr>\n",
       "    <tr>\n",
       "      <th>Need Attention</th>\n",
       "      <td>51.212560</td>\n",
       "      <td>51.0</td>\n",
       "      <td>207</td>\n",
       "      <td>9.838168</td>\n",
       "      <td>2.454106</td>\n",
       "      <td>2.0</td>\n",
       "      <td>207</td>\n",
       "      <td>0.499096</td>\n",
       "      <td>1058.788068</td>\n",
       "      <td>730.470</td>\n",
       "      <td>207</td>\n",
       "      <td>1190.255349</td>\n",
       "    </tr>\n",
       "    <tr>\n",
       "      <th>New Customers</th>\n",
       "      <td>6.580000</td>\n",
       "      <td>6.5</td>\n",
       "      <td>50</td>\n",
       "      <td>4.309884</td>\n",
       "      <td>1.000000</td>\n",
       "      <td>1.0</td>\n",
       "      <td>50</td>\n",
       "      <td>0.000000</td>\n",
       "      <td>386.199200</td>\n",
       "      <td>258.825</td>\n",
       "      <td>50</td>\n",
       "      <td>493.321262</td>\n",
       "    </tr>\n",
       "    <tr>\n",
       "      <th>Potential Loyalists</th>\n",
       "      <td>16.773256</td>\n",
       "      <td>17.0</td>\n",
       "      <td>516</td>\n",
       "      <td>9.730991</td>\n",
       "      <td>2.023256</td>\n",
       "      <td>2.0</td>\n",
       "      <td>516</td>\n",
       "      <td>0.696344</td>\n",
       "      <td>729.164806</td>\n",
       "      <td>523.660</td>\n",
       "      <td>516</td>\n",
       "      <td>837.546248</td>\n",
       "    </tr>\n",
       "    <tr>\n",
       "      <th>Promising</th>\n",
       "      <td>23.758621</td>\n",
       "      <td>23.0</td>\n",
       "      <td>87</td>\n",
       "      <td>6.030862</td>\n",
       "      <td>1.000000</td>\n",
       "      <td>1.0</td>\n",
       "      <td>87</td>\n",
       "      <td>0.000000</td>\n",
       "      <td>368.020690</td>\n",
       "      <td>293.740</td>\n",
       "      <td>87</td>\n",
       "      <td>343.912746</td>\n",
       "    </tr>\n",
       "  </tbody>\n",
       "</table>\n",
       "</div>"
      ],
      "text/plain": [
       "                     Recency_mean  Recency_median  Recency_count  Recency_std  \\\n",
       "Segment                                                                         \n",
       "About to Sleep          51.851312            51.0            343    10.259985   \n",
       "At Risk                149.937807           128.0            611    69.978119   \n",
       "Can't Loose            121.717949           106.5             78    49.724409   \n",
       "Champions                5.119155             5.0            663     4.619934   \n",
       "Hibernating            212.309055           211.0           1016    89.780306   \n",
       "Loyal Customers         34.275908            29.0            743    16.064746   \n",
       "Need Attention          51.212560            51.0            207     9.838168   \n",
       "New Customers            6.580000             6.5             50     4.309884   \n",
       "Potential Loyalists     16.773256            17.0            516     9.730991   \n",
       "Promising               23.758621            23.0             87     6.030862   \n",
       "\n",
       "                     Frequency_mean  Frequency_median  Frequency_count  \\\n",
       "Segment                                                                  \n",
       "About to Sleep             1.201166               1.0              343   \n",
       "At Risk                    3.070376               3.0              611   \n",
       "Can't Loose                9.038462               7.5               78   \n",
       "Champions                 12.499246               8.0              663   \n",
       "Hibernating                1.126969               1.0             1016   \n",
       "Loyal Customers            6.816958               5.0              743   \n",
       "Need Attention             2.454106               2.0              207   \n",
       "New Customers              1.000000               1.0               50   \n",
       "Potential Loyalists        2.023256               2.0              516   \n",
       "Promising                  1.000000               1.0               87   \n",
       "\n",
       "                     Frequency_std  Monetary_mean  Monetary_median  \\\n",
       "Segment                                                              \n",
       "About to Sleep            0.401458     442.266851          317.760   \n",
       "At Risk                   1.092428    1188.207056          760.190   \n",
       "Can't Loose               5.782738    4072.967051         2316.485   \n",
       "Champions                17.189180    6852.264167         2508.320   \n",
       "Hibernating               0.333102     401.982150          250.155   \n",
       "Loyal Customers           4.376349    2743.484342         1818.710   \n",
       "Need Attention            0.499096    1058.788068          730.470   \n",
       "New Customers             0.000000     386.199200          258.825   \n",
       "Potential Loyalists       0.696344     729.164806          523.660   \n",
       "Promising                 0.000000     368.020690          293.740   \n",
       "\n",
       "                     Monetary_count  Monetary_std  \n",
       "Segment                                            \n",
       "About to Sleep                  343    417.303449  \n",
       "At Risk                         611   1844.174551  \n",
       "Can't Loose                      78   5275.397061  \n",
       "Champions                       663  21556.377144  \n",
       "Hibernating                    1016    775.076212  \n",
       "Loyal Customers                 743   3255.108992  \n",
       "Need Attention                  207   1190.255349  \n",
       "New Customers                    50    493.321262  \n",
       "Potential Loyalists             516    837.546248  \n",
       "Promising                        87    343.912746  "
      ]
     },
     "execution_count": 40,
     "metadata": {},
     "output_type": "execute_result"
    }
   ],
   "source": [
    "rfmStats1 = rfm1[[\"Segment\",\"Recency\",\"Frequency\", \"Monetary\"]].groupby(\"Segment\").agg([\"mean\",\"median\",\"count\", \"std\"])\n",
    "rfmStats1.columns = rfmStats1.columns.map('_'.join).str.strip('|')\n",
    "rfmStats1"
   ]
  },
  {
   "cell_type": "code",
   "execution_count": 41,
   "id": "927870fd",
   "metadata": {},
   "outputs": [
    {
     "data": {
      "text/html": [
       "<div>\n",
       "<style scoped>\n",
       "    .dataframe tbody tr th:only-of-type {\n",
       "        vertical-align: middle;\n",
       "    }\n",
       "\n",
       "    .dataframe tbody tr th {\n",
       "        vertical-align: top;\n",
       "    }\n",
       "\n",
       "    .dataframe thead th {\n",
       "        text-align: right;\n",
       "    }\n",
       "</style>\n",
       "<table border=\"1\" class=\"dataframe\">\n",
       "  <thead>\n",
       "    <tr style=\"text-align: right;\">\n",
       "      <th></th>\n",
       "      <th>Recency_mean</th>\n",
       "      <th>Recency_median</th>\n",
       "      <th>Recency_count</th>\n",
       "      <th>Recency_std</th>\n",
       "      <th>Frequency_mean</th>\n",
       "      <th>Frequency_median</th>\n",
       "      <th>Frequency_count</th>\n",
       "      <th>Frequency_std</th>\n",
       "      <th>Monetary_mean</th>\n",
       "      <th>Monetary_median</th>\n",
       "      <th>Monetary_count</th>\n",
       "      <th>Monetary_std</th>\n",
       "    </tr>\n",
       "    <tr>\n",
       "      <th>Segment</th>\n",
       "      <th></th>\n",
       "      <th></th>\n",
       "      <th></th>\n",
       "      <th></th>\n",
       "      <th></th>\n",
       "      <th></th>\n",
       "      <th></th>\n",
       "      <th></th>\n",
       "      <th></th>\n",
       "      <th></th>\n",
       "      <th></th>\n",
       "      <th></th>\n",
       "    </tr>\n",
       "  </thead>\n",
       "  <tbody>\n",
       "    <tr>\n",
       "      <th>About to Sleep</th>\n",
       "      <td>51.365439</td>\n",
       "      <td>51.0</td>\n",
       "      <td>353</td>\n",
       "      <td>10.973089</td>\n",
       "      <td>1.161473</td>\n",
       "      <td>1.0</td>\n",
       "      <td>353</td>\n",
       "      <td>0.368489</td>\n",
       "      <td>472.548640</td>\n",
       "      <td>331.950</td>\n",
       "      <td>353</td>\n",
       "      <td>532.933850</td>\n",
       "    </tr>\n",
       "    <tr>\n",
       "      <th>At Risk</th>\n",
       "      <td>152.038721</td>\n",
       "      <td>137.0</td>\n",
       "      <td>594</td>\n",
       "      <td>68.640154</td>\n",
       "      <td>2.867003</td>\n",
       "      <td>3.0</td>\n",
       "      <td>594</td>\n",
       "      <td>0.940465</td>\n",
       "      <td>1079.814126</td>\n",
       "      <td>675.160</td>\n",
       "      <td>594</td>\n",
       "      <td>2559.612421</td>\n",
       "    </tr>\n",
       "    <tr>\n",
       "      <th>Can't Loose</th>\n",
       "      <td>130.046875</td>\n",
       "      <td>105.0</td>\n",
       "      <td>64</td>\n",
       "      <td>65.148775</td>\n",
       "      <td>8.312500</td>\n",
       "      <td>7.0</td>\n",
       "      <td>64</td>\n",
       "      <td>4.143746</td>\n",
       "      <td>2791.010625</td>\n",
       "      <td>2236.740</td>\n",
       "      <td>64</td>\n",
       "      <td>2074.240885</td>\n",
       "    </tr>\n",
       "    <tr>\n",
       "      <th>Champions</th>\n",
       "      <td>4.367089</td>\n",
       "      <td>3.0</td>\n",
       "      <td>632</td>\n",
       "      <td>3.683784</td>\n",
       "      <td>12.340190</td>\n",
       "      <td>8.0</td>\n",
       "      <td>632</td>\n",
       "      <td>16.372248</td>\n",
       "      <td>6866.779209</td>\n",
       "      <td>2613.850</td>\n",
       "      <td>632</td>\n",
       "      <td>20354.664347</td>\n",
       "    </tr>\n",
       "    <tr>\n",
       "      <th>Hibernating</th>\n",
       "      <td>215.658559</td>\n",
       "      <td>217.0</td>\n",
       "      <td>1069</td>\n",
       "      <td>92.038617</td>\n",
       "      <td>1.100094</td>\n",
       "      <td>1.0</td>\n",
       "      <td>1069</td>\n",
       "      <td>0.300265</td>\n",
       "      <td>488.858711</td>\n",
       "      <td>293.000</td>\n",
       "      <td>1069</td>\n",
       "      <td>2421.941489</td>\n",
       "    </tr>\n",
       "    <tr>\n",
       "      <th>Loyal Customers</th>\n",
       "      <td>31.685366</td>\n",
       "      <td>28.0</td>\n",
       "      <td>820</td>\n",
       "      <td>15.601369</td>\n",
       "      <td>6.441463</td>\n",
       "      <td>5.0</td>\n",
       "      <td>820</td>\n",
       "      <td>4.450267</td>\n",
       "      <td>2862.890830</td>\n",
       "      <td>1737.830</td>\n",
       "      <td>820</td>\n",
       "      <td>6003.490267</td>\n",
       "    </tr>\n",
       "    <tr>\n",
       "      <th>Need Attention</th>\n",
       "      <td>50.271739</td>\n",
       "      <td>50.0</td>\n",
       "      <td>184</td>\n",
       "      <td>11.533371</td>\n",
       "      <td>2.320652</td>\n",
       "      <td>2.0</td>\n",
       "      <td>184</td>\n",
       "      <td>0.468001</td>\n",
       "      <td>894.490272</td>\n",
       "      <td>637.775</td>\n",
       "      <td>184</td>\n",
       "      <td>1110.270072</td>\n",
       "    </tr>\n",
       "    <tr>\n",
       "      <th>New Customers</th>\n",
       "      <td>5.428571</td>\n",
       "      <td>6.0</td>\n",
       "      <td>42</td>\n",
       "      <td>3.902112</td>\n",
       "      <td>1.000000</td>\n",
       "      <td>1.0</td>\n",
       "      <td>42</td>\n",
       "      <td>0.000000</td>\n",
       "      <td>388.212857</td>\n",
       "      <td>274.505</td>\n",
       "      <td>42</td>\n",
       "      <td>570.776294</td>\n",
       "    </tr>\n",
       "    <tr>\n",
       "      <th>Potential Loyalists</th>\n",
       "      <td>15.368313</td>\n",
       "      <td>16.0</td>\n",
       "      <td>486</td>\n",
       "      <td>9.342407</td>\n",
       "      <td>2.012346</td>\n",
       "      <td>2.0</td>\n",
       "      <td>486</td>\n",
       "      <td>0.654762</td>\n",
       "      <td>1041.335720</td>\n",
       "      <td>523.995</td>\n",
       "      <td>486</td>\n",
       "      <td>7640.534349</td>\n",
       "    </tr>\n",
       "    <tr>\n",
       "      <th>Promising</th>\n",
       "      <td>21.421053</td>\n",
       "      <td>21.0</td>\n",
       "      <td>95</td>\n",
       "      <td>5.238115</td>\n",
       "      <td>1.000000</td>\n",
       "      <td>1.0</td>\n",
       "      <td>95</td>\n",
       "      <td>0.000000</td>\n",
       "      <td>290.913158</td>\n",
       "      <td>219.000</td>\n",
       "      <td>95</td>\n",
       "      <td>241.019513</td>\n",
       "    </tr>\n",
       "  </tbody>\n",
       "</table>\n",
       "</div>"
      ],
      "text/plain": [
       "                     Recency_mean  Recency_median  Recency_count  Recency_std  \\\n",
       "Segment                                                                         \n",
       "About to Sleep          51.365439            51.0            353    10.973089   \n",
       "At Risk                152.038721           137.0            594    68.640154   \n",
       "Can't Loose            130.046875           105.0             64    65.148775   \n",
       "Champions                4.367089             3.0            632     3.683784   \n",
       "Hibernating            215.658559           217.0           1069    92.038617   \n",
       "Loyal Customers         31.685366            28.0            820    15.601369   \n",
       "Need Attention          50.271739            50.0            184    11.533371   \n",
       "New Customers            5.428571             6.0             42     3.902112   \n",
       "Potential Loyalists     15.368313            16.0            486     9.342407   \n",
       "Promising               21.421053            21.0             95     5.238115   \n",
       "\n",
       "                     Frequency_mean  Frequency_median  Frequency_count  \\\n",
       "Segment                                                                  \n",
       "About to Sleep             1.161473               1.0              353   \n",
       "At Risk                    2.867003               3.0              594   \n",
       "Can't Loose                8.312500               7.0               64   \n",
       "Champions                 12.340190               8.0              632   \n",
       "Hibernating                1.100094               1.0             1069   \n",
       "Loyal Customers            6.441463               5.0              820   \n",
       "Need Attention             2.320652               2.0              184   \n",
       "New Customers              1.000000               1.0               42   \n",
       "Potential Loyalists        2.012346               2.0              486   \n",
       "Promising                  1.000000               1.0               95   \n",
       "\n",
       "                     Frequency_std  Monetary_mean  Monetary_median  \\\n",
       "Segment                                                              \n",
       "About to Sleep            0.368489     472.548640          331.950   \n",
       "At Risk                   0.940465    1079.814126          675.160   \n",
       "Can't Loose               4.143746    2791.010625         2236.740   \n",
       "Champions                16.372248    6866.779209         2613.850   \n",
       "Hibernating               0.300265     488.858711          293.000   \n",
       "Loyal Customers           4.450267    2862.890830         1737.830   \n",
       "Need Attention            0.468001     894.490272          637.775   \n",
       "New Customers             0.000000     388.212857          274.505   \n",
       "Potential Loyalists       0.654762    1041.335720          523.995   \n",
       "Promising                 0.000000     290.913158          219.000   \n",
       "\n",
       "                     Monetary_count  Monetary_std  \n",
       "Segment                                            \n",
       "About to Sleep                  353    532.933850  \n",
       "At Risk                         594   2559.612421  \n",
       "Can't Loose                      64   2074.240885  \n",
       "Champions                       632  20354.664347  \n",
       "Hibernating                    1069   2421.941489  \n",
       "Loyal Customers                 820   6003.490267  \n",
       "Need Attention                  184   1110.270072  \n",
       "New Customers                    42    570.776294  \n",
       "Potential Loyalists             486   7640.534349  \n",
       "Promising                        95    241.019513  "
      ]
     },
     "execution_count": 41,
     "metadata": {},
     "output_type": "execute_result"
    }
   ],
   "source": [
    "rfmStats2 = rfm2[[\"Segment\",\"Recency\",\"Frequency\", \"Monetary\"]].groupby(\"Segment\").agg([\"mean\",\"median\",\"count\", \"std\"])\n",
    "rfmStats2.columns = rfmStats2.columns.map('_'.join).str.strip('|')\n",
    "rfmStats2"
   ]
  },
  {
   "cell_type": "markdown",
   "id": "d0c90526",
   "metadata": {},
   "source": [
    "Tree Map to visualaize number of customers\n"
   ]
  },
  {
   "cell_type": "code",
   "execution_count": 45,
   "id": "9714da2f",
   "metadata": {},
   "outputs": [
    {
     "data": {
      "application/vnd.plotly.v1+json": {
       "config": {
        "plotlyServerURL": "https://plot.ly"
       },
       "data": [
        {
         "branchvalues": "total",
         "customdata": [
          [
           353
          ],
          [
           594
          ],
          [
           64
          ],
          [
           632
          ],
          [
           1069
          ],
          [
           820
          ],
          [
           184
          ],
          [
           42
          ],
          [
           486
          ],
          [
           95
          ]
         ],
         "domain": {
          "x": [
           0,
           1
          ],
          "y": [
           0,
           1
          ]
         },
         "hovertemplate": "labels=%{label}<br>Customer_Count_sum=%{value}<br>parent=%{parent}<br>id=%{id}<br>Customer_Count=%{color}<extra></extra>",
         "ids": [
          "About to Sleep",
          "At Risk",
          "Can't Loose",
          "Champions",
          "Hibernating",
          "Loyal Customers",
          "Need Attention",
          "New Customers",
          "Potential Loyalists",
          "Promising"
         ],
         "labels": [
          "About to Sleep",
          "At Risk",
          "Can't Loose",
          "Champions",
          "Hibernating",
          "Loyal Customers",
          "Need Attention",
          "New Customers",
          "Potential Loyalists",
          "Promising"
         ],
         "marker": {
          "coloraxis": "coloraxis",
          "colors": [
           353,
           594,
           64,
           632,
           1069,
           820,
           184,
           42,
           486,
           95
          ]
         },
         "name": "",
         "parents": [
          "",
          "",
          "",
          "",
          "",
          "",
          "",
          "",
          "",
          ""
         ],
         "type": "treemap",
         "values": [
          353,
          594,
          64,
          632,
          1069,
          820,
          184,
          42,
          486,
          95
         ]
        }
       ],
       "layout": {
        "coloraxis": {
         "colorbar": {
          "title": {
           "text": "Customer_Count"
          }
         },
         "colorscale": [
          [
           0,
           "rgb(247,251,255)"
          ],
          [
           0.125,
           "rgb(222,235,247)"
          ],
          [
           0.25,
           "rgb(198,219,239)"
          ],
          [
           0.375,
           "rgb(158,202,225)"
          ],
          [
           0.5,
           "rgb(107,174,214)"
          ],
          [
           0.625,
           "rgb(66,146,198)"
          ],
          [
           0.75,
           "rgb(33,113,181)"
          ],
          [
           0.875,
           "rgb(8,81,156)"
          ],
          [
           1,
           "rgb(8,48,107)"
          ]
         ]
        },
        "legend": {
         "tracegroupgap": 0
        },
        "template": {
         "data": {
          "bar": [
           {
            "error_x": {
             "color": "#2a3f5f"
            },
            "error_y": {
             "color": "#2a3f5f"
            },
            "marker": {
             "line": {
              "color": "#E5ECF6",
              "width": 0.5
             },
             "pattern": {
              "fillmode": "overlay",
              "size": 10,
              "solidity": 0.2
             }
            },
            "type": "bar"
           }
          ],
          "barpolar": [
           {
            "marker": {
             "line": {
              "color": "#E5ECF6",
              "width": 0.5
             },
             "pattern": {
              "fillmode": "overlay",
              "size": 10,
              "solidity": 0.2
             }
            },
            "type": "barpolar"
           }
          ],
          "carpet": [
           {
            "aaxis": {
             "endlinecolor": "#2a3f5f",
             "gridcolor": "white",
             "linecolor": "white",
             "minorgridcolor": "white",
             "startlinecolor": "#2a3f5f"
            },
            "baxis": {
             "endlinecolor": "#2a3f5f",
             "gridcolor": "white",
             "linecolor": "white",
             "minorgridcolor": "white",
             "startlinecolor": "#2a3f5f"
            },
            "type": "carpet"
           }
          ],
          "choropleth": [
           {
            "colorbar": {
             "outlinewidth": 0,
             "ticks": ""
            },
            "type": "choropleth"
           }
          ],
          "contour": [
           {
            "colorbar": {
             "outlinewidth": 0,
             "ticks": ""
            },
            "colorscale": [
             [
              0,
              "#0d0887"
             ],
             [
              0.1111111111111111,
              "#46039f"
             ],
             [
              0.2222222222222222,
              "#7201a8"
             ],
             [
              0.3333333333333333,
              "#9c179e"
             ],
             [
              0.4444444444444444,
              "#bd3786"
             ],
             [
              0.5555555555555556,
              "#d8576b"
             ],
             [
              0.6666666666666666,
              "#ed7953"
             ],
             [
              0.7777777777777778,
              "#fb9f3a"
             ],
             [
              0.8888888888888888,
              "#fdca26"
             ],
             [
              1,
              "#f0f921"
             ]
            ],
            "type": "contour"
           }
          ],
          "contourcarpet": [
           {
            "colorbar": {
             "outlinewidth": 0,
             "ticks": ""
            },
            "type": "contourcarpet"
           }
          ],
          "heatmap": [
           {
            "colorbar": {
             "outlinewidth": 0,
             "ticks": ""
            },
            "colorscale": [
             [
              0,
              "#0d0887"
             ],
             [
              0.1111111111111111,
              "#46039f"
             ],
             [
              0.2222222222222222,
              "#7201a8"
             ],
             [
              0.3333333333333333,
              "#9c179e"
             ],
             [
              0.4444444444444444,
              "#bd3786"
             ],
             [
              0.5555555555555556,
              "#d8576b"
             ],
             [
              0.6666666666666666,
              "#ed7953"
             ],
             [
              0.7777777777777778,
              "#fb9f3a"
             ],
             [
              0.8888888888888888,
              "#fdca26"
             ],
             [
              1,
              "#f0f921"
             ]
            ],
            "type": "heatmap"
           }
          ],
          "heatmapgl": [
           {
            "colorbar": {
             "outlinewidth": 0,
             "ticks": ""
            },
            "colorscale": [
             [
              0,
              "#0d0887"
             ],
             [
              0.1111111111111111,
              "#46039f"
             ],
             [
              0.2222222222222222,
              "#7201a8"
             ],
             [
              0.3333333333333333,
              "#9c179e"
             ],
             [
              0.4444444444444444,
              "#bd3786"
             ],
             [
              0.5555555555555556,
              "#d8576b"
             ],
             [
              0.6666666666666666,
              "#ed7953"
             ],
             [
              0.7777777777777778,
              "#fb9f3a"
             ],
             [
              0.8888888888888888,
              "#fdca26"
             ],
             [
              1,
              "#f0f921"
             ]
            ],
            "type": "heatmapgl"
           }
          ],
          "histogram": [
           {
            "marker": {
             "pattern": {
              "fillmode": "overlay",
              "size": 10,
              "solidity": 0.2
             }
            },
            "type": "histogram"
           }
          ],
          "histogram2d": [
           {
            "colorbar": {
             "outlinewidth": 0,
             "ticks": ""
            },
            "colorscale": [
             [
              0,
              "#0d0887"
             ],
             [
              0.1111111111111111,
              "#46039f"
             ],
             [
              0.2222222222222222,
              "#7201a8"
             ],
             [
              0.3333333333333333,
              "#9c179e"
             ],
             [
              0.4444444444444444,
              "#bd3786"
             ],
             [
              0.5555555555555556,
              "#d8576b"
             ],
             [
              0.6666666666666666,
              "#ed7953"
             ],
             [
              0.7777777777777778,
              "#fb9f3a"
             ],
             [
              0.8888888888888888,
              "#fdca26"
             ],
             [
              1,
              "#f0f921"
             ]
            ],
            "type": "histogram2d"
           }
          ],
          "histogram2dcontour": [
           {
            "colorbar": {
             "outlinewidth": 0,
             "ticks": ""
            },
            "colorscale": [
             [
              0,
              "#0d0887"
             ],
             [
              0.1111111111111111,
              "#46039f"
             ],
             [
              0.2222222222222222,
              "#7201a8"
             ],
             [
              0.3333333333333333,
              "#9c179e"
             ],
             [
              0.4444444444444444,
              "#bd3786"
             ],
             [
              0.5555555555555556,
              "#d8576b"
             ],
             [
              0.6666666666666666,
              "#ed7953"
             ],
             [
              0.7777777777777778,
              "#fb9f3a"
             ],
             [
              0.8888888888888888,
              "#fdca26"
             ],
             [
              1,
              "#f0f921"
             ]
            ],
            "type": "histogram2dcontour"
           }
          ],
          "mesh3d": [
           {
            "colorbar": {
             "outlinewidth": 0,
             "ticks": ""
            },
            "type": "mesh3d"
           }
          ],
          "parcoords": [
           {
            "line": {
             "colorbar": {
              "outlinewidth": 0,
              "ticks": ""
             }
            },
            "type": "parcoords"
           }
          ],
          "pie": [
           {
            "automargin": true,
            "type": "pie"
           }
          ],
          "scatter": [
           {
            "fillpattern": {
             "fillmode": "overlay",
             "size": 10,
             "solidity": 0.2
            },
            "type": "scatter"
           }
          ],
          "scatter3d": [
           {
            "line": {
             "colorbar": {
              "outlinewidth": 0,
              "ticks": ""
             }
            },
            "marker": {
             "colorbar": {
              "outlinewidth": 0,
              "ticks": ""
             }
            },
            "type": "scatter3d"
           }
          ],
          "scattercarpet": [
           {
            "marker": {
             "colorbar": {
              "outlinewidth": 0,
              "ticks": ""
             }
            },
            "type": "scattercarpet"
           }
          ],
          "scattergeo": [
           {
            "marker": {
             "colorbar": {
              "outlinewidth": 0,
              "ticks": ""
             }
            },
            "type": "scattergeo"
           }
          ],
          "scattergl": [
           {
            "marker": {
             "colorbar": {
              "outlinewidth": 0,
              "ticks": ""
             }
            },
            "type": "scattergl"
           }
          ],
          "scattermapbox": [
           {
            "marker": {
             "colorbar": {
              "outlinewidth": 0,
              "ticks": ""
             }
            },
            "type": "scattermapbox"
           }
          ],
          "scatterpolar": [
           {
            "marker": {
             "colorbar": {
              "outlinewidth": 0,
              "ticks": ""
             }
            },
            "type": "scatterpolar"
           }
          ],
          "scatterpolargl": [
           {
            "marker": {
             "colorbar": {
              "outlinewidth": 0,
              "ticks": ""
             }
            },
            "type": "scatterpolargl"
           }
          ],
          "scatterternary": [
           {
            "marker": {
             "colorbar": {
              "outlinewidth": 0,
              "ticks": ""
             }
            },
            "type": "scatterternary"
           }
          ],
          "surface": [
           {
            "colorbar": {
             "outlinewidth": 0,
             "ticks": ""
            },
            "colorscale": [
             [
              0,
              "#0d0887"
             ],
             [
              0.1111111111111111,
              "#46039f"
             ],
             [
              0.2222222222222222,
              "#7201a8"
             ],
             [
              0.3333333333333333,
              "#9c179e"
             ],
             [
              0.4444444444444444,
              "#bd3786"
             ],
             [
              0.5555555555555556,
              "#d8576b"
             ],
             [
              0.6666666666666666,
              "#ed7953"
             ],
             [
              0.7777777777777778,
              "#fb9f3a"
             ],
             [
              0.8888888888888888,
              "#fdca26"
             ],
             [
              1,
              "#f0f921"
             ]
            ],
            "type": "surface"
           }
          ],
          "table": [
           {
            "cells": {
             "fill": {
              "color": "#EBF0F8"
             },
             "line": {
              "color": "white"
             }
            },
            "header": {
             "fill": {
              "color": "#C8D4E3"
             },
             "line": {
              "color": "white"
             }
            },
            "type": "table"
           }
          ]
         },
         "layout": {
          "annotationdefaults": {
           "arrowcolor": "#2a3f5f",
           "arrowhead": 0,
           "arrowwidth": 1
          },
          "autotypenumbers": "strict",
          "coloraxis": {
           "colorbar": {
            "outlinewidth": 0,
            "ticks": ""
           }
          },
          "colorscale": {
           "diverging": [
            [
             0,
             "#8e0152"
            ],
            [
             0.1,
             "#c51b7d"
            ],
            [
             0.2,
             "#de77ae"
            ],
            [
             0.3,
             "#f1b6da"
            ],
            [
             0.4,
             "#fde0ef"
            ],
            [
             0.5,
             "#f7f7f7"
            ],
            [
             0.6,
             "#e6f5d0"
            ],
            [
             0.7,
             "#b8e186"
            ],
            [
             0.8,
             "#7fbc41"
            ],
            [
             0.9,
             "#4d9221"
            ],
            [
             1,
             "#276419"
            ]
           ],
           "sequential": [
            [
             0,
             "#0d0887"
            ],
            [
             0.1111111111111111,
             "#46039f"
            ],
            [
             0.2222222222222222,
             "#7201a8"
            ],
            [
             0.3333333333333333,
             "#9c179e"
            ],
            [
             0.4444444444444444,
             "#bd3786"
            ],
            [
             0.5555555555555556,
             "#d8576b"
            ],
            [
             0.6666666666666666,
             "#ed7953"
            ],
            [
             0.7777777777777778,
             "#fb9f3a"
            ],
            [
             0.8888888888888888,
             "#fdca26"
            ],
            [
             1,
             "#f0f921"
            ]
           ],
           "sequentialminus": [
            [
             0,
             "#0d0887"
            ],
            [
             0.1111111111111111,
             "#46039f"
            ],
            [
             0.2222222222222222,
             "#7201a8"
            ],
            [
             0.3333333333333333,
             "#9c179e"
            ],
            [
             0.4444444444444444,
             "#bd3786"
            ],
            [
             0.5555555555555556,
             "#d8576b"
            ],
            [
             0.6666666666666666,
             "#ed7953"
            ],
            [
             0.7777777777777778,
             "#fb9f3a"
            ],
            [
             0.8888888888888888,
             "#fdca26"
            ],
            [
             1,
             "#f0f921"
            ]
           ]
          },
          "colorway": [
           "#636efa",
           "#EF553B",
           "#00cc96",
           "#ab63fa",
           "#FFA15A",
           "#19d3f3",
           "#FF6692",
           "#B6E880",
           "#FF97FF",
           "#FECB52"
          ],
          "font": {
           "color": "#2a3f5f"
          },
          "geo": {
           "bgcolor": "white",
           "lakecolor": "white",
           "landcolor": "#E5ECF6",
           "showlakes": true,
           "showland": true,
           "subunitcolor": "white"
          },
          "hoverlabel": {
           "align": "left"
          },
          "hovermode": "closest",
          "mapbox": {
           "style": "light"
          },
          "paper_bgcolor": "white",
          "plot_bgcolor": "#E5ECF6",
          "polar": {
           "angularaxis": {
            "gridcolor": "white",
            "linecolor": "white",
            "ticks": ""
           },
           "bgcolor": "#E5ECF6",
           "radialaxis": {
            "gridcolor": "white",
            "linecolor": "white",
            "ticks": ""
           }
          },
          "scene": {
           "xaxis": {
            "backgroundcolor": "#E5ECF6",
            "gridcolor": "white",
            "gridwidth": 2,
            "linecolor": "white",
            "showbackground": true,
            "ticks": "",
            "zerolinecolor": "white"
           },
           "yaxis": {
            "backgroundcolor": "#E5ECF6",
            "gridcolor": "white",
            "gridwidth": 2,
            "linecolor": "white",
            "showbackground": true,
            "ticks": "",
            "zerolinecolor": "white"
           },
           "zaxis": {
            "backgroundcolor": "#E5ECF6",
            "gridcolor": "white",
            "gridwidth": 2,
            "linecolor": "white",
            "showbackground": true,
            "ticks": "",
            "zerolinecolor": "white"
           }
          },
          "shapedefaults": {
           "line": {
            "color": "#2a3f5f"
           }
          },
          "ternary": {
           "aaxis": {
            "gridcolor": "white",
            "linecolor": "white",
            "ticks": ""
           },
           "baxis": {
            "gridcolor": "white",
            "linecolor": "white",
            "ticks": ""
           },
           "bgcolor": "#E5ECF6",
           "caxis": {
            "gridcolor": "white",
            "linecolor": "white",
            "ticks": ""
           }
          },
          "title": {
           "x": 0.05
          },
          "xaxis": {
           "automargin": true,
           "gridcolor": "white",
           "linecolor": "white",
           "ticks": "",
           "title": {
            "standoff": 15
           },
           "zerolinecolor": "white",
           "zerolinewidth": 2
          },
          "yaxis": {
           "automargin": true,
           "gridcolor": "white",
           "linecolor": "white",
           "ticks": "",
           "title": {
            "standoff": 15
           },
           "zerolinecolor": "white",
           "zerolinewidth": 2
          }
         }
        },
        "title": {
         "text": "Customer Distribution by Segment"
        }
       }
      },
      "text/html": [
       "<div>                            <div id=\"4d2957f2-92e2-4bd6-8610-67681bc747bd\" class=\"plotly-graph-div\" style=\"height:525px; width:100%;\"></div>            <script type=\"text/javascript\">                require([\"plotly\"], function(Plotly) {                    window.PLOTLYENV=window.PLOTLYENV || {};                                    if (document.getElementById(\"4d2957f2-92e2-4bd6-8610-67681bc747bd\")) {                    Plotly.newPlot(                        \"4d2957f2-92e2-4bd6-8610-67681bc747bd\",                        [{\"branchvalues\":\"total\",\"customdata\":[[353.0],[594.0],[64.0],[632.0],[1069.0],[820.0],[184.0],[42.0],[486.0],[95.0]],\"domain\":{\"x\":[0.0,1.0],\"y\":[0.0,1.0]},\"hovertemplate\":\"labels=%{label}<br>Customer_Count_sum=%{value}<br>parent=%{parent}<br>id=%{id}<br>Customer_Count=%{color}<extra></extra>\",\"ids\":[\"About to Sleep\",\"At Risk\",\"Can't Loose\",\"Champions\",\"Hibernating\",\"Loyal Customers\",\"Need Attention\",\"New Customers\",\"Potential Loyalists\",\"Promising\"],\"labels\":[\"About to Sleep\",\"At Risk\",\"Can't Loose\",\"Champions\",\"Hibernating\",\"Loyal Customers\",\"Need Attention\",\"New Customers\",\"Potential Loyalists\",\"Promising\"],\"marker\":{\"coloraxis\":\"coloraxis\",\"colors\":[353.0,594.0,64.0,632.0,1069.0,820.0,184.0,42.0,486.0,95.0]},\"name\":\"\",\"parents\":[\"\",\"\",\"\",\"\",\"\",\"\",\"\",\"\",\"\",\"\"],\"values\":[353,594,64,632,1069,820,184,42,486,95],\"type\":\"treemap\"}],                        {\"template\":{\"data\":{\"histogram2dcontour\":[{\"type\":\"histogram2dcontour\",\"colorbar\":{\"outlinewidth\":0,\"ticks\":\"\"},\"colorscale\":[[0.0,\"#0d0887\"],[0.1111111111111111,\"#46039f\"],[0.2222222222222222,\"#7201a8\"],[0.3333333333333333,\"#9c179e\"],[0.4444444444444444,\"#bd3786\"],[0.5555555555555556,\"#d8576b\"],[0.6666666666666666,\"#ed7953\"],[0.7777777777777778,\"#fb9f3a\"],[0.8888888888888888,\"#fdca26\"],[1.0,\"#f0f921\"]]}],\"choropleth\":[{\"type\":\"choropleth\",\"colorbar\":{\"outlinewidth\":0,\"ticks\":\"\"}}],\"histogram2d\":[{\"type\":\"histogram2d\",\"colorbar\":{\"outlinewidth\":0,\"ticks\":\"\"},\"colorscale\":[[0.0,\"#0d0887\"],[0.1111111111111111,\"#46039f\"],[0.2222222222222222,\"#7201a8\"],[0.3333333333333333,\"#9c179e\"],[0.4444444444444444,\"#bd3786\"],[0.5555555555555556,\"#d8576b\"],[0.6666666666666666,\"#ed7953\"],[0.7777777777777778,\"#fb9f3a\"],[0.8888888888888888,\"#fdca26\"],[1.0,\"#f0f921\"]]}],\"heatmap\":[{\"type\":\"heatmap\",\"colorbar\":{\"outlinewidth\":0,\"ticks\":\"\"},\"colorscale\":[[0.0,\"#0d0887\"],[0.1111111111111111,\"#46039f\"],[0.2222222222222222,\"#7201a8\"],[0.3333333333333333,\"#9c179e\"],[0.4444444444444444,\"#bd3786\"],[0.5555555555555556,\"#d8576b\"],[0.6666666666666666,\"#ed7953\"],[0.7777777777777778,\"#fb9f3a\"],[0.8888888888888888,\"#fdca26\"],[1.0,\"#f0f921\"]]}],\"heatmapgl\":[{\"type\":\"heatmapgl\",\"colorbar\":{\"outlinewidth\":0,\"ticks\":\"\"},\"colorscale\":[[0.0,\"#0d0887\"],[0.1111111111111111,\"#46039f\"],[0.2222222222222222,\"#7201a8\"],[0.3333333333333333,\"#9c179e\"],[0.4444444444444444,\"#bd3786\"],[0.5555555555555556,\"#d8576b\"],[0.6666666666666666,\"#ed7953\"],[0.7777777777777778,\"#fb9f3a\"],[0.8888888888888888,\"#fdca26\"],[1.0,\"#f0f921\"]]}],\"contourcarpet\":[{\"type\":\"contourcarpet\",\"colorbar\":{\"outlinewidth\":0,\"ticks\":\"\"}}],\"contour\":[{\"type\":\"contour\",\"colorbar\":{\"outlinewidth\":0,\"ticks\":\"\"},\"colorscale\":[[0.0,\"#0d0887\"],[0.1111111111111111,\"#46039f\"],[0.2222222222222222,\"#7201a8\"],[0.3333333333333333,\"#9c179e\"],[0.4444444444444444,\"#bd3786\"],[0.5555555555555556,\"#d8576b\"],[0.6666666666666666,\"#ed7953\"],[0.7777777777777778,\"#fb9f3a\"],[0.8888888888888888,\"#fdca26\"],[1.0,\"#f0f921\"]]}],\"surface\":[{\"type\":\"surface\",\"colorbar\":{\"outlinewidth\":0,\"ticks\":\"\"},\"colorscale\":[[0.0,\"#0d0887\"],[0.1111111111111111,\"#46039f\"],[0.2222222222222222,\"#7201a8\"],[0.3333333333333333,\"#9c179e\"],[0.4444444444444444,\"#bd3786\"],[0.5555555555555556,\"#d8576b\"],[0.6666666666666666,\"#ed7953\"],[0.7777777777777778,\"#fb9f3a\"],[0.8888888888888888,\"#fdca26\"],[1.0,\"#f0f921\"]]}],\"mesh3d\":[{\"type\":\"mesh3d\",\"colorbar\":{\"outlinewidth\":0,\"ticks\":\"\"}}],\"scatter\":[{\"fillpattern\":{\"fillmode\":\"overlay\",\"size\":10,\"solidity\":0.2},\"type\":\"scatter\"}],\"parcoords\":[{\"type\":\"parcoords\",\"line\":{\"colorbar\":{\"outlinewidth\":0,\"ticks\":\"\"}}}],\"scatterpolargl\":[{\"type\":\"scatterpolargl\",\"marker\":{\"colorbar\":{\"outlinewidth\":0,\"ticks\":\"\"}}}],\"bar\":[{\"error_x\":{\"color\":\"#2a3f5f\"},\"error_y\":{\"color\":\"#2a3f5f\"},\"marker\":{\"line\":{\"color\":\"#E5ECF6\",\"width\":0.5},\"pattern\":{\"fillmode\":\"overlay\",\"size\":10,\"solidity\":0.2}},\"type\":\"bar\"}],\"scattergeo\":[{\"type\":\"scattergeo\",\"marker\":{\"colorbar\":{\"outlinewidth\":0,\"ticks\":\"\"}}}],\"scatterpolar\":[{\"type\":\"scatterpolar\",\"marker\":{\"colorbar\":{\"outlinewidth\":0,\"ticks\":\"\"}}}],\"histogram\":[{\"marker\":{\"pattern\":{\"fillmode\":\"overlay\",\"size\":10,\"solidity\":0.2}},\"type\":\"histogram\"}],\"scattergl\":[{\"type\":\"scattergl\",\"marker\":{\"colorbar\":{\"outlinewidth\":0,\"ticks\":\"\"}}}],\"scatter3d\":[{\"type\":\"scatter3d\",\"line\":{\"colorbar\":{\"outlinewidth\":0,\"ticks\":\"\"}},\"marker\":{\"colorbar\":{\"outlinewidth\":0,\"ticks\":\"\"}}}],\"scattermapbox\":[{\"type\":\"scattermapbox\",\"marker\":{\"colorbar\":{\"outlinewidth\":0,\"ticks\":\"\"}}}],\"scatterternary\":[{\"type\":\"scatterternary\",\"marker\":{\"colorbar\":{\"outlinewidth\":0,\"ticks\":\"\"}}}],\"scattercarpet\":[{\"type\":\"scattercarpet\",\"marker\":{\"colorbar\":{\"outlinewidth\":0,\"ticks\":\"\"}}}],\"carpet\":[{\"aaxis\":{\"endlinecolor\":\"#2a3f5f\",\"gridcolor\":\"white\",\"linecolor\":\"white\",\"minorgridcolor\":\"white\",\"startlinecolor\":\"#2a3f5f\"},\"baxis\":{\"endlinecolor\":\"#2a3f5f\",\"gridcolor\":\"white\",\"linecolor\":\"white\",\"minorgridcolor\":\"white\",\"startlinecolor\":\"#2a3f5f\"},\"type\":\"carpet\"}],\"table\":[{\"cells\":{\"fill\":{\"color\":\"#EBF0F8\"},\"line\":{\"color\":\"white\"}},\"header\":{\"fill\":{\"color\":\"#C8D4E3\"},\"line\":{\"color\":\"white\"}},\"type\":\"table\"}],\"barpolar\":[{\"marker\":{\"line\":{\"color\":\"#E5ECF6\",\"width\":0.5},\"pattern\":{\"fillmode\":\"overlay\",\"size\":10,\"solidity\":0.2}},\"type\":\"barpolar\"}],\"pie\":[{\"automargin\":true,\"type\":\"pie\"}]},\"layout\":{\"autotypenumbers\":\"strict\",\"colorway\":[\"#636efa\",\"#EF553B\",\"#00cc96\",\"#ab63fa\",\"#FFA15A\",\"#19d3f3\",\"#FF6692\",\"#B6E880\",\"#FF97FF\",\"#FECB52\"],\"font\":{\"color\":\"#2a3f5f\"},\"hovermode\":\"closest\",\"hoverlabel\":{\"align\":\"left\"},\"paper_bgcolor\":\"white\",\"plot_bgcolor\":\"#E5ECF6\",\"polar\":{\"bgcolor\":\"#E5ECF6\",\"angularaxis\":{\"gridcolor\":\"white\",\"linecolor\":\"white\",\"ticks\":\"\"},\"radialaxis\":{\"gridcolor\":\"white\",\"linecolor\":\"white\",\"ticks\":\"\"}},\"ternary\":{\"bgcolor\":\"#E5ECF6\",\"aaxis\":{\"gridcolor\":\"white\",\"linecolor\":\"white\",\"ticks\":\"\"},\"baxis\":{\"gridcolor\":\"white\",\"linecolor\":\"white\",\"ticks\":\"\"},\"caxis\":{\"gridcolor\":\"white\",\"linecolor\":\"white\",\"ticks\":\"\"}},\"coloraxis\":{\"colorbar\":{\"outlinewidth\":0,\"ticks\":\"\"}},\"colorscale\":{\"sequential\":[[0.0,\"#0d0887\"],[0.1111111111111111,\"#46039f\"],[0.2222222222222222,\"#7201a8\"],[0.3333333333333333,\"#9c179e\"],[0.4444444444444444,\"#bd3786\"],[0.5555555555555556,\"#d8576b\"],[0.6666666666666666,\"#ed7953\"],[0.7777777777777778,\"#fb9f3a\"],[0.8888888888888888,\"#fdca26\"],[1.0,\"#f0f921\"]],\"sequentialminus\":[[0.0,\"#0d0887\"],[0.1111111111111111,\"#46039f\"],[0.2222222222222222,\"#7201a8\"],[0.3333333333333333,\"#9c179e\"],[0.4444444444444444,\"#bd3786\"],[0.5555555555555556,\"#d8576b\"],[0.6666666666666666,\"#ed7953\"],[0.7777777777777778,\"#fb9f3a\"],[0.8888888888888888,\"#fdca26\"],[1.0,\"#f0f921\"]],\"diverging\":[[0,\"#8e0152\"],[0.1,\"#c51b7d\"],[0.2,\"#de77ae\"],[0.3,\"#f1b6da\"],[0.4,\"#fde0ef\"],[0.5,\"#f7f7f7\"],[0.6,\"#e6f5d0\"],[0.7,\"#b8e186\"],[0.8,\"#7fbc41\"],[0.9,\"#4d9221\"],[1,\"#276419\"]]},\"xaxis\":{\"gridcolor\":\"white\",\"linecolor\":\"white\",\"ticks\":\"\",\"title\":{\"standoff\":15},\"zerolinecolor\":\"white\",\"automargin\":true,\"zerolinewidth\":2},\"yaxis\":{\"gridcolor\":\"white\",\"linecolor\":\"white\",\"ticks\":\"\",\"title\":{\"standoff\":15},\"zerolinecolor\":\"white\",\"automargin\":true,\"zerolinewidth\":2},\"scene\":{\"xaxis\":{\"backgroundcolor\":\"#E5ECF6\",\"gridcolor\":\"white\",\"linecolor\":\"white\",\"showbackground\":true,\"ticks\":\"\",\"zerolinecolor\":\"white\",\"gridwidth\":2},\"yaxis\":{\"backgroundcolor\":\"#E5ECF6\",\"gridcolor\":\"white\",\"linecolor\":\"white\",\"showbackground\":true,\"ticks\":\"\",\"zerolinecolor\":\"white\",\"gridwidth\":2},\"zaxis\":{\"backgroundcolor\":\"#E5ECF6\",\"gridcolor\":\"white\",\"linecolor\":\"white\",\"showbackground\":true,\"ticks\":\"\",\"zerolinecolor\":\"white\",\"gridwidth\":2}},\"shapedefaults\":{\"line\":{\"color\":\"#2a3f5f\"}},\"annotationdefaults\":{\"arrowcolor\":\"#2a3f5f\",\"arrowhead\":0,\"arrowwidth\":1},\"geo\":{\"bgcolor\":\"white\",\"landcolor\":\"#E5ECF6\",\"subunitcolor\":\"white\",\"showland\":true,\"showlakes\":true,\"lakecolor\":\"white\"},\"title\":{\"x\":0.05},\"mapbox\":{\"style\":\"light\"}}},\"coloraxis\":{\"colorbar\":{\"title\":{\"text\":\"Customer_Count\"}},\"colorscale\":[[0.0,\"rgb(247,251,255)\"],[0.125,\"rgb(222,235,247)\"],[0.25,\"rgb(198,219,239)\"],[0.375,\"rgb(158,202,225)\"],[0.5,\"rgb(107,174,214)\"],[0.625,\"rgb(66,146,198)\"],[0.75,\"rgb(33,113,181)\"],[0.875,\"rgb(8,81,156)\"],[1.0,\"rgb(8,48,107)\"]]},\"legend\":{\"tracegroupgap\":0},\"title\":{\"text\":\"Customer Distribution by Segment\"}},                        {\"responsive\": true}                    ).then(function(){\n",
       "                            \n",
       "var gd = document.getElementById('4d2957f2-92e2-4bd6-8610-67681bc747bd');\n",
       "var x = new MutationObserver(function (mutations, observer) {{\n",
       "        var display = window.getComputedStyle(gd).display;\n",
       "        if (!display || display === 'none') {{\n",
       "            console.log([gd, 'removed!']);\n",
       "            Plotly.purge(gd);\n",
       "            observer.disconnect();\n",
       "        }}\n",
       "}});\n",
       "\n",
       "// Listen for the removal of the full notebook cells\n",
       "var notebookContainer = gd.closest('#notebook-container');\n",
       "if (notebookContainer) {{\n",
       "    x.observe(notebookContainer, {childList: true});\n",
       "}}\n",
       "\n",
       "// Listen for the clearing of the current output cell\n",
       "var outputEl = gd.closest('.output');\n",
       "if (outputEl) {{\n",
       "    x.observe(outputEl, {childList: true});\n",
       "}}\n",
       "\n",
       "                        })                };                });            </script>        </div>"
      ]
     },
     "metadata": {},
     "output_type": "display_data"
    }
   ],
   "source": [
    "import plotly.express as px\n",
    "import pandas as pd\n",
    "\n",
    "# Manually creating the DataFrame from your provided data\n",
    "data = {\n",
    "    \"Segment\": [\n",
    "        \"About to Sleep\", \"At Risk\", \"Can't Loose\", \"Champions\", \"Hibernating\", \n",
    "        \"Loyal Customers\", \"Need Attention\", \"New Customers\", \n",
    "        \"Potential Loyalists\", \"Promising\"\n",
    "    ],\n",
    "    \"Customer_Count\": [353, 594, 64, 632, 1069, 820, 184, 42, 486, 95]\n",
    "}\n",
    "\n",
    "# Convert to DataFrame\n",
    "rfmStats1 = pd.DataFrame(data)\n",
    "\n",
    "# Create Treemap\n",
    "fig = px.treemap(rfmStats1, \n",
    "                 path=['Segment'], \n",
    "                 values='Customer_Count',  \n",
    "                 color='Customer_Count',  \n",
    "                 color_continuous_scale='blues',\n",
    "                 title=\"Customer Distribution by Segment\")\n",
    "\n",
    "fig.show()"
   ]
  },
  {
   "cell_type": "code",
   "execution_count": 46,
   "id": "5e8e3b5f",
   "metadata": {},
   "outputs": [
    {
     "data": {
      "application/vnd.plotly.v1+json": {
       "config": {
        "plotlyServerURL": "https://plot.ly"
       },
       "data": [
        {
         "branchvalues": "total",
         "customdata": [
          [
           353
          ],
          [
           594
          ],
          [
           64
          ],
          [
           632
          ],
          [
           1069
          ],
          [
           820
          ],
          [
           184
          ],
          [
           42
          ],
          [
           486
          ],
          [
           95
          ]
         ],
         "domain": {
          "x": [
           0,
           1
          ],
          "y": [
           0,
           1
          ]
         },
         "hovertemplate": "labels=%{label}<br>Customer_Count_sum=%{value}<br>parent=%{parent}<br>id=%{id}<br>Customer_Count=%{color}<extra></extra>",
         "ids": [
          "About to Sleep",
          "At Risk",
          "Can't Loose",
          "Champions",
          "Hibernating",
          "Loyal Customers",
          "Need Attention",
          "New Customers",
          "Potential Loyalists",
          "Promising"
         ],
         "labels": [
          "About to Sleep",
          "At Risk",
          "Can't Loose",
          "Champions",
          "Hibernating",
          "Loyal Customers",
          "Need Attention",
          "New Customers",
          "Potential Loyalists",
          "Promising"
         ],
         "marker": {
          "coloraxis": "coloraxis",
          "colors": [
           353,
           594,
           64,
           632,
           1069,
           820,
           184,
           42,
           486,
           95
          ]
         },
         "name": "",
         "parents": [
          "",
          "",
          "",
          "",
          "",
          "",
          "",
          "",
          "",
          ""
         ],
         "type": "treemap",
         "values": [
          353,
          594,
          64,
          632,
          1069,
          820,
          184,
          42,
          486,
          95
         ]
        }
       ],
       "layout": {
        "coloraxis": {
         "colorbar": {
          "title": {
           "text": "Customer_Count"
          }
         },
         "colorscale": [
          [
           0,
           "rgb(247,251,255)"
          ],
          [
           0.125,
           "rgb(222,235,247)"
          ],
          [
           0.25,
           "rgb(198,219,239)"
          ],
          [
           0.375,
           "rgb(158,202,225)"
          ],
          [
           0.5,
           "rgb(107,174,214)"
          ],
          [
           0.625,
           "rgb(66,146,198)"
          ],
          [
           0.75,
           "rgb(33,113,181)"
          ],
          [
           0.875,
           "rgb(8,81,156)"
          ],
          [
           1,
           "rgb(8,48,107)"
          ]
         ]
        },
        "legend": {
         "tracegroupgap": 0
        },
        "template": {
         "data": {
          "bar": [
           {
            "error_x": {
             "color": "#2a3f5f"
            },
            "error_y": {
             "color": "#2a3f5f"
            },
            "marker": {
             "line": {
              "color": "#E5ECF6",
              "width": 0.5
             },
             "pattern": {
              "fillmode": "overlay",
              "size": 10,
              "solidity": 0.2
             }
            },
            "type": "bar"
           }
          ],
          "barpolar": [
           {
            "marker": {
             "line": {
              "color": "#E5ECF6",
              "width": 0.5
             },
             "pattern": {
              "fillmode": "overlay",
              "size": 10,
              "solidity": 0.2
             }
            },
            "type": "barpolar"
           }
          ],
          "carpet": [
           {
            "aaxis": {
             "endlinecolor": "#2a3f5f",
             "gridcolor": "white",
             "linecolor": "white",
             "minorgridcolor": "white",
             "startlinecolor": "#2a3f5f"
            },
            "baxis": {
             "endlinecolor": "#2a3f5f",
             "gridcolor": "white",
             "linecolor": "white",
             "minorgridcolor": "white",
             "startlinecolor": "#2a3f5f"
            },
            "type": "carpet"
           }
          ],
          "choropleth": [
           {
            "colorbar": {
             "outlinewidth": 0,
             "ticks": ""
            },
            "type": "choropleth"
           }
          ],
          "contour": [
           {
            "colorbar": {
             "outlinewidth": 0,
             "ticks": ""
            },
            "colorscale": [
             [
              0,
              "#0d0887"
             ],
             [
              0.1111111111111111,
              "#46039f"
             ],
             [
              0.2222222222222222,
              "#7201a8"
             ],
             [
              0.3333333333333333,
              "#9c179e"
             ],
             [
              0.4444444444444444,
              "#bd3786"
             ],
             [
              0.5555555555555556,
              "#d8576b"
             ],
             [
              0.6666666666666666,
              "#ed7953"
             ],
             [
              0.7777777777777778,
              "#fb9f3a"
             ],
             [
              0.8888888888888888,
              "#fdca26"
             ],
             [
              1,
              "#f0f921"
             ]
            ],
            "type": "contour"
           }
          ],
          "contourcarpet": [
           {
            "colorbar": {
             "outlinewidth": 0,
             "ticks": ""
            },
            "type": "contourcarpet"
           }
          ],
          "heatmap": [
           {
            "colorbar": {
             "outlinewidth": 0,
             "ticks": ""
            },
            "colorscale": [
             [
              0,
              "#0d0887"
             ],
             [
              0.1111111111111111,
              "#46039f"
             ],
             [
              0.2222222222222222,
              "#7201a8"
             ],
             [
              0.3333333333333333,
              "#9c179e"
             ],
             [
              0.4444444444444444,
              "#bd3786"
             ],
             [
              0.5555555555555556,
              "#d8576b"
             ],
             [
              0.6666666666666666,
              "#ed7953"
             ],
             [
              0.7777777777777778,
              "#fb9f3a"
             ],
             [
              0.8888888888888888,
              "#fdca26"
             ],
             [
              1,
              "#f0f921"
             ]
            ],
            "type": "heatmap"
           }
          ],
          "heatmapgl": [
           {
            "colorbar": {
             "outlinewidth": 0,
             "ticks": ""
            },
            "colorscale": [
             [
              0,
              "#0d0887"
             ],
             [
              0.1111111111111111,
              "#46039f"
             ],
             [
              0.2222222222222222,
              "#7201a8"
             ],
             [
              0.3333333333333333,
              "#9c179e"
             ],
             [
              0.4444444444444444,
              "#bd3786"
             ],
             [
              0.5555555555555556,
              "#d8576b"
             ],
             [
              0.6666666666666666,
              "#ed7953"
             ],
             [
              0.7777777777777778,
              "#fb9f3a"
             ],
             [
              0.8888888888888888,
              "#fdca26"
             ],
             [
              1,
              "#f0f921"
             ]
            ],
            "type": "heatmapgl"
           }
          ],
          "histogram": [
           {
            "marker": {
             "pattern": {
              "fillmode": "overlay",
              "size": 10,
              "solidity": 0.2
             }
            },
            "type": "histogram"
           }
          ],
          "histogram2d": [
           {
            "colorbar": {
             "outlinewidth": 0,
             "ticks": ""
            },
            "colorscale": [
             [
              0,
              "#0d0887"
             ],
             [
              0.1111111111111111,
              "#46039f"
             ],
             [
              0.2222222222222222,
              "#7201a8"
             ],
             [
              0.3333333333333333,
              "#9c179e"
             ],
             [
              0.4444444444444444,
              "#bd3786"
             ],
             [
              0.5555555555555556,
              "#d8576b"
             ],
             [
              0.6666666666666666,
              "#ed7953"
             ],
             [
              0.7777777777777778,
              "#fb9f3a"
             ],
             [
              0.8888888888888888,
              "#fdca26"
             ],
             [
              1,
              "#f0f921"
             ]
            ],
            "type": "histogram2d"
           }
          ],
          "histogram2dcontour": [
           {
            "colorbar": {
             "outlinewidth": 0,
             "ticks": ""
            },
            "colorscale": [
             [
              0,
              "#0d0887"
             ],
             [
              0.1111111111111111,
              "#46039f"
             ],
             [
              0.2222222222222222,
              "#7201a8"
             ],
             [
              0.3333333333333333,
              "#9c179e"
             ],
             [
              0.4444444444444444,
              "#bd3786"
             ],
             [
              0.5555555555555556,
              "#d8576b"
             ],
             [
              0.6666666666666666,
              "#ed7953"
             ],
             [
              0.7777777777777778,
              "#fb9f3a"
             ],
             [
              0.8888888888888888,
              "#fdca26"
             ],
             [
              1,
              "#f0f921"
             ]
            ],
            "type": "histogram2dcontour"
           }
          ],
          "mesh3d": [
           {
            "colorbar": {
             "outlinewidth": 0,
             "ticks": ""
            },
            "type": "mesh3d"
           }
          ],
          "parcoords": [
           {
            "line": {
             "colorbar": {
              "outlinewidth": 0,
              "ticks": ""
             }
            },
            "type": "parcoords"
           }
          ],
          "pie": [
           {
            "automargin": true,
            "type": "pie"
           }
          ],
          "scatter": [
           {
            "fillpattern": {
             "fillmode": "overlay",
             "size": 10,
             "solidity": 0.2
            },
            "type": "scatter"
           }
          ],
          "scatter3d": [
           {
            "line": {
             "colorbar": {
              "outlinewidth": 0,
              "ticks": ""
             }
            },
            "marker": {
             "colorbar": {
              "outlinewidth": 0,
              "ticks": ""
             }
            },
            "type": "scatter3d"
           }
          ],
          "scattercarpet": [
           {
            "marker": {
             "colorbar": {
              "outlinewidth": 0,
              "ticks": ""
             }
            },
            "type": "scattercarpet"
           }
          ],
          "scattergeo": [
           {
            "marker": {
             "colorbar": {
              "outlinewidth": 0,
              "ticks": ""
             }
            },
            "type": "scattergeo"
           }
          ],
          "scattergl": [
           {
            "marker": {
             "colorbar": {
              "outlinewidth": 0,
              "ticks": ""
             }
            },
            "type": "scattergl"
           }
          ],
          "scattermapbox": [
           {
            "marker": {
             "colorbar": {
              "outlinewidth": 0,
              "ticks": ""
             }
            },
            "type": "scattermapbox"
           }
          ],
          "scatterpolar": [
           {
            "marker": {
             "colorbar": {
              "outlinewidth": 0,
              "ticks": ""
             }
            },
            "type": "scatterpolar"
           }
          ],
          "scatterpolargl": [
           {
            "marker": {
             "colorbar": {
              "outlinewidth": 0,
              "ticks": ""
             }
            },
            "type": "scatterpolargl"
           }
          ],
          "scatterternary": [
           {
            "marker": {
             "colorbar": {
              "outlinewidth": 0,
              "ticks": ""
             }
            },
            "type": "scatterternary"
           }
          ],
          "surface": [
           {
            "colorbar": {
             "outlinewidth": 0,
             "ticks": ""
            },
            "colorscale": [
             [
              0,
              "#0d0887"
             ],
             [
              0.1111111111111111,
              "#46039f"
             ],
             [
              0.2222222222222222,
              "#7201a8"
             ],
             [
              0.3333333333333333,
              "#9c179e"
             ],
             [
              0.4444444444444444,
              "#bd3786"
             ],
             [
              0.5555555555555556,
              "#d8576b"
             ],
             [
              0.6666666666666666,
              "#ed7953"
             ],
             [
              0.7777777777777778,
              "#fb9f3a"
             ],
             [
              0.8888888888888888,
              "#fdca26"
             ],
             [
              1,
              "#f0f921"
             ]
            ],
            "type": "surface"
           }
          ],
          "table": [
           {
            "cells": {
             "fill": {
              "color": "#EBF0F8"
             },
             "line": {
              "color": "white"
             }
            },
            "header": {
             "fill": {
              "color": "#C8D4E3"
             },
             "line": {
              "color": "white"
             }
            },
            "type": "table"
           }
          ]
         },
         "layout": {
          "annotationdefaults": {
           "arrowcolor": "#2a3f5f",
           "arrowhead": 0,
           "arrowwidth": 1
          },
          "autotypenumbers": "strict",
          "coloraxis": {
           "colorbar": {
            "outlinewidth": 0,
            "ticks": ""
           }
          },
          "colorscale": {
           "diverging": [
            [
             0,
             "#8e0152"
            ],
            [
             0.1,
             "#c51b7d"
            ],
            [
             0.2,
             "#de77ae"
            ],
            [
             0.3,
             "#f1b6da"
            ],
            [
             0.4,
             "#fde0ef"
            ],
            [
             0.5,
             "#f7f7f7"
            ],
            [
             0.6,
             "#e6f5d0"
            ],
            [
             0.7,
             "#b8e186"
            ],
            [
             0.8,
             "#7fbc41"
            ],
            [
             0.9,
             "#4d9221"
            ],
            [
             1,
             "#276419"
            ]
           ],
           "sequential": [
            [
             0,
             "#0d0887"
            ],
            [
             0.1111111111111111,
             "#46039f"
            ],
            [
             0.2222222222222222,
             "#7201a8"
            ],
            [
             0.3333333333333333,
             "#9c179e"
            ],
            [
             0.4444444444444444,
             "#bd3786"
            ],
            [
             0.5555555555555556,
             "#d8576b"
            ],
            [
             0.6666666666666666,
             "#ed7953"
            ],
            [
             0.7777777777777778,
             "#fb9f3a"
            ],
            [
             0.8888888888888888,
             "#fdca26"
            ],
            [
             1,
             "#f0f921"
            ]
           ],
           "sequentialminus": [
            [
             0,
             "#0d0887"
            ],
            [
             0.1111111111111111,
             "#46039f"
            ],
            [
             0.2222222222222222,
             "#7201a8"
            ],
            [
             0.3333333333333333,
             "#9c179e"
            ],
            [
             0.4444444444444444,
             "#bd3786"
            ],
            [
             0.5555555555555556,
             "#d8576b"
            ],
            [
             0.6666666666666666,
             "#ed7953"
            ],
            [
             0.7777777777777778,
             "#fb9f3a"
            ],
            [
             0.8888888888888888,
             "#fdca26"
            ],
            [
             1,
             "#f0f921"
            ]
           ]
          },
          "colorway": [
           "#636efa",
           "#EF553B",
           "#00cc96",
           "#ab63fa",
           "#FFA15A",
           "#19d3f3",
           "#FF6692",
           "#B6E880",
           "#FF97FF",
           "#FECB52"
          ],
          "font": {
           "color": "#2a3f5f"
          },
          "geo": {
           "bgcolor": "white",
           "lakecolor": "white",
           "landcolor": "#E5ECF6",
           "showlakes": true,
           "showland": true,
           "subunitcolor": "white"
          },
          "hoverlabel": {
           "align": "left"
          },
          "hovermode": "closest",
          "mapbox": {
           "style": "light"
          },
          "paper_bgcolor": "white",
          "plot_bgcolor": "#E5ECF6",
          "polar": {
           "angularaxis": {
            "gridcolor": "white",
            "linecolor": "white",
            "ticks": ""
           },
           "bgcolor": "#E5ECF6",
           "radialaxis": {
            "gridcolor": "white",
            "linecolor": "white",
            "ticks": ""
           }
          },
          "scene": {
           "xaxis": {
            "backgroundcolor": "#E5ECF6",
            "gridcolor": "white",
            "gridwidth": 2,
            "linecolor": "white",
            "showbackground": true,
            "ticks": "",
            "zerolinecolor": "white"
           },
           "yaxis": {
            "backgroundcolor": "#E5ECF6",
            "gridcolor": "white",
            "gridwidth": 2,
            "linecolor": "white",
            "showbackground": true,
            "ticks": "",
            "zerolinecolor": "white"
           },
           "zaxis": {
            "backgroundcolor": "#E5ECF6",
            "gridcolor": "white",
            "gridwidth": 2,
            "linecolor": "white",
            "showbackground": true,
            "ticks": "",
            "zerolinecolor": "white"
           }
          },
          "shapedefaults": {
           "line": {
            "color": "#2a3f5f"
           }
          },
          "ternary": {
           "aaxis": {
            "gridcolor": "white",
            "linecolor": "white",
            "ticks": ""
           },
           "baxis": {
            "gridcolor": "white",
            "linecolor": "white",
            "ticks": ""
           },
           "bgcolor": "#E5ECF6",
           "caxis": {
            "gridcolor": "white",
            "linecolor": "white",
            "ticks": ""
           }
          },
          "title": {
           "x": 0.05
          },
          "xaxis": {
           "automargin": true,
           "gridcolor": "white",
           "linecolor": "white",
           "ticks": "",
           "title": {
            "standoff": 15
           },
           "zerolinecolor": "white",
           "zerolinewidth": 2
          },
          "yaxis": {
           "automargin": true,
           "gridcolor": "white",
           "linecolor": "white",
           "ticks": "",
           "title": {
            "standoff": 15
           },
           "zerolinecolor": "white",
           "zerolinewidth": 2
          }
         }
        },
        "title": {
         "text": "Customer Distribution by Segment"
        }
       }
      },
      "text/html": [
       "<div>                            <div id=\"1a86ca4e-8d09-46cd-9f47-5bac76d0f960\" class=\"plotly-graph-div\" style=\"height:525px; width:100%;\"></div>            <script type=\"text/javascript\">                require([\"plotly\"], function(Plotly) {                    window.PLOTLYENV=window.PLOTLYENV || {};                                    if (document.getElementById(\"1a86ca4e-8d09-46cd-9f47-5bac76d0f960\")) {                    Plotly.newPlot(                        \"1a86ca4e-8d09-46cd-9f47-5bac76d0f960\",                        [{\"branchvalues\":\"total\",\"customdata\":[[353.0],[594.0],[64.0],[632.0],[1069.0],[820.0],[184.0],[42.0],[486.0],[95.0]],\"domain\":{\"x\":[0.0,1.0],\"y\":[0.0,1.0]},\"hovertemplate\":\"labels=%{label}<br>Customer_Count_sum=%{value}<br>parent=%{parent}<br>id=%{id}<br>Customer_Count=%{color}<extra></extra>\",\"ids\":[\"About to Sleep\",\"At Risk\",\"Can't Loose\",\"Champions\",\"Hibernating\",\"Loyal Customers\",\"Need Attention\",\"New Customers\",\"Potential Loyalists\",\"Promising\"],\"labels\":[\"About to Sleep\",\"At Risk\",\"Can't Loose\",\"Champions\",\"Hibernating\",\"Loyal Customers\",\"Need Attention\",\"New Customers\",\"Potential Loyalists\",\"Promising\"],\"marker\":{\"coloraxis\":\"coloraxis\",\"colors\":[353.0,594.0,64.0,632.0,1069.0,820.0,184.0,42.0,486.0,95.0]},\"name\":\"\",\"parents\":[\"\",\"\",\"\",\"\",\"\",\"\",\"\",\"\",\"\",\"\"],\"values\":[353,594,64,632,1069,820,184,42,486,95],\"type\":\"treemap\"}],                        {\"template\":{\"data\":{\"histogram2dcontour\":[{\"type\":\"histogram2dcontour\",\"colorbar\":{\"outlinewidth\":0,\"ticks\":\"\"},\"colorscale\":[[0.0,\"#0d0887\"],[0.1111111111111111,\"#46039f\"],[0.2222222222222222,\"#7201a8\"],[0.3333333333333333,\"#9c179e\"],[0.4444444444444444,\"#bd3786\"],[0.5555555555555556,\"#d8576b\"],[0.6666666666666666,\"#ed7953\"],[0.7777777777777778,\"#fb9f3a\"],[0.8888888888888888,\"#fdca26\"],[1.0,\"#f0f921\"]]}],\"choropleth\":[{\"type\":\"choropleth\",\"colorbar\":{\"outlinewidth\":0,\"ticks\":\"\"}}],\"histogram2d\":[{\"type\":\"histogram2d\",\"colorbar\":{\"outlinewidth\":0,\"ticks\":\"\"},\"colorscale\":[[0.0,\"#0d0887\"],[0.1111111111111111,\"#46039f\"],[0.2222222222222222,\"#7201a8\"],[0.3333333333333333,\"#9c179e\"],[0.4444444444444444,\"#bd3786\"],[0.5555555555555556,\"#d8576b\"],[0.6666666666666666,\"#ed7953\"],[0.7777777777777778,\"#fb9f3a\"],[0.8888888888888888,\"#fdca26\"],[1.0,\"#f0f921\"]]}],\"heatmap\":[{\"type\":\"heatmap\",\"colorbar\":{\"outlinewidth\":0,\"ticks\":\"\"},\"colorscale\":[[0.0,\"#0d0887\"],[0.1111111111111111,\"#46039f\"],[0.2222222222222222,\"#7201a8\"],[0.3333333333333333,\"#9c179e\"],[0.4444444444444444,\"#bd3786\"],[0.5555555555555556,\"#d8576b\"],[0.6666666666666666,\"#ed7953\"],[0.7777777777777778,\"#fb9f3a\"],[0.8888888888888888,\"#fdca26\"],[1.0,\"#f0f921\"]]}],\"heatmapgl\":[{\"type\":\"heatmapgl\",\"colorbar\":{\"outlinewidth\":0,\"ticks\":\"\"},\"colorscale\":[[0.0,\"#0d0887\"],[0.1111111111111111,\"#46039f\"],[0.2222222222222222,\"#7201a8\"],[0.3333333333333333,\"#9c179e\"],[0.4444444444444444,\"#bd3786\"],[0.5555555555555556,\"#d8576b\"],[0.6666666666666666,\"#ed7953\"],[0.7777777777777778,\"#fb9f3a\"],[0.8888888888888888,\"#fdca26\"],[1.0,\"#f0f921\"]]}],\"contourcarpet\":[{\"type\":\"contourcarpet\",\"colorbar\":{\"outlinewidth\":0,\"ticks\":\"\"}}],\"contour\":[{\"type\":\"contour\",\"colorbar\":{\"outlinewidth\":0,\"ticks\":\"\"},\"colorscale\":[[0.0,\"#0d0887\"],[0.1111111111111111,\"#46039f\"],[0.2222222222222222,\"#7201a8\"],[0.3333333333333333,\"#9c179e\"],[0.4444444444444444,\"#bd3786\"],[0.5555555555555556,\"#d8576b\"],[0.6666666666666666,\"#ed7953\"],[0.7777777777777778,\"#fb9f3a\"],[0.8888888888888888,\"#fdca26\"],[1.0,\"#f0f921\"]]}],\"surface\":[{\"type\":\"surface\",\"colorbar\":{\"outlinewidth\":0,\"ticks\":\"\"},\"colorscale\":[[0.0,\"#0d0887\"],[0.1111111111111111,\"#46039f\"],[0.2222222222222222,\"#7201a8\"],[0.3333333333333333,\"#9c179e\"],[0.4444444444444444,\"#bd3786\"],[0.5555555555555556,\"#d8576b\"],[0.6666666666666666,\"#ed7953\"],[0.7777777777777778,\"#fb9f3a\"],[0.8888888888888888,\"#fdca26\"],[1.0,\"#f0f921\"]]}],\"mesh3d\":[{\"type\":\"mesh3d\",\"colorbar\":{\"outlinewidth\":0,\"ticks\":\"\"}}],\"scatter\":[{\"fillpattern\":{\"fillmode\":\"overlay\",\"size\":10,\"solidity\":0.2},\"type\":\"scatter\"}],\"parcoords\":[{\"type\":\"parcoords\",\"line\":{\"colorbar\":{\"outlinewidth\":0,\"ticks\":\"\"}}}],\"scatterpolargl\":[{\"type\":\"scatterpolargl\",\"marker\":{\"colorbar\":{\"outlinewidth\":0,\"ticks\":\"\"}}}],\"bar\":[{\"error_x\":{\"color\":\"#2a3f5f\"},\"error_y\":{\"color\":\"#2a3f5f\"},\"marker\":{\"line\":{\"color\":\"#E5ECF6\",\"width\":0.5},\"pattern\":{\"fillmode\":\"overlay\",\"size\":10,\"solidity\":0.2}},\"type\":\"bar\"}],\"scattergeo\":[{\"type\":\"scattergeo\",\"marker\":{\"colorbar\":{\"outlinewidth\":0,\"ticks\":\"\"}}}],\"scatterpolar\":[{\"type\":\"scatterpolar\",\"marker\":{\"colorbar\":{\"outlinewidth\":0,\"ticks\":\"\"}}}],\"histogram\":[{\"marker\":{\"pattern\":{\"fillmode\":\"overlay\",\"size\":10,\"solidity\":0.2}},\"type\":\"histogram\"}],\"scattergl\":[{\"type\":\"scattergl\",\"marker\":{\"colorbar\":{\"outlinewidth\":0,\"ticks\":\"\"}}}],\"scatter3d\":[{\"type\":\"scatter3d\",\"line\":{\"colorbar\":{\"outlinewidth\":0,\"ticks\":\"\"}},\"marker\":{\"colorbar\":{\"outlinewidth\":0,\"ticks\":\"\"}}}],\"scattermapbox\":[{\"type\":\"scattermapbox\",\"marker\":{\"colorbar\":{\"outlinewidth\":0,\"ticks\":\"\"}}}],\"scatterternary\":[{\"type\":\"scatterternary\",\"marker\":{\"colorbar\":{\"outlinewidth\":0,\"ticks\":\"\"}}}],\"scattercarpet\":[{\"type\":\"scattercarpet\",\"marker\":{\"colorbar\":{\"outlinewidth\":0,\"ticks\":\"\"}}}],\"carpet\":[{\"aaxis\":{\"endlinecolor\":\"#2a3f5f\",\"gridcolor\":\"white\",\"linecolor\":\"white\",\"minorgridcolor\":\"white\",\"startlinecolor\":\"#2a3f5f\"},\"baxis\":{\"endlinecolor\":\"#2a3f5f\",\"gridcolor\":\"white\",\"linecolor\":\"white\",\"minorgridcolor\":\"white\",\"startlinecolor\":\"#2a3f5f\"},\"type\":\"carpet\"}],\"table\":[{\"cells\":{\"fill\":{\"color\":\"#EBF0F8\"},\"line\":{\"color\":\"white\"}},\"header\":{\"fill\":{\"color\":\"#C8D4E3\"},\"line\":{\"color\":\"white\"}},\"type\":\"table\"}],\"barpolar\":[{\"marker\":{\"line\":{\"color\":\"#E5ECF6\",\"width\":0.5},\"pattern\":{\"fillmode\":\"overlay\",\"size\":10,\"solidity\":0.2}},\"type\":\"barpolar\"}],\"pie\":[{\"automargin\":true,\"type\":\"pie\"}]},\"layout\":{\"autotypenumbers\":\"strict\",\"colorway\":[\"#636efa\",\"#EF553B\",\"#00cc96\",\"#ab63fa\",\"#FFA15A\",\"#19d3f3\",\"#FF6692\",\"#B6E880\",\"#FF97FF\",\"#FECB52\"],\"font\":{\"color\":\"#2a3f5f\"},\"hovermode\":\"closest\",\"hoverlabel\":{\"align\":\"left\"},\"paper_bgcolor\":\"white\",\"plot_bgcolor\":\"#E5ECF6\",\"polar\":{\"bgcolor\":\"#E5ECF6\",\"angularaxis\":{\"gridcolor\":\"white\",\"linecolor\":\"white\",\"ticks\":\"\"},\"radialaxis\":{\"gridcolor\":\"white\",\"linecolor\":\"white\",\"ticks\":\"\"}},\"ternary\":{\"bgcolor\":\"#E5ECF6\",\"aaxis\":{\"gridcolor\":\"white\",\"linecolor\":\"white\",\"ticks\":\"\"},\"baxis\":{\"gridcolor\":\"white\",\"linecolor\":\"white\",\"ticks\":\"\"},\"caxis\":{\"gridcolor\":\"white\",\"linecolor\":\"white\",\"ticks\":\"\"}},\"coloraxis\":{\"colorbar\":{\"outlinewidth\":0,\"ticks\":\"\"}},\"colorscale\":{\"sequential\":[[0.0,\"#0d0887\"],[0.1111111111111111,\"#46039f\"],[0.2222222222222222,\"#7201a8\"],[0.3333333333333333,\"#9c179e\"],[0.4444444444444444,\"#bd3786\"],[0.5555555555555556,\"#d8576b\"],[0.6666666666666666,\"#ed7953\"],[0.7777777777777778,\"#fb9f3a\"],[0.8888888888888888,\"#fdca26\"],[1.0,\"#f0f921\"]],\"sequentialminus\":[[0.0,\"#0d0887\"],[0.1111111111111111,\"#46039f\"],[0.2222222222222222,\"#7201a8\"],[0.3333333333333333,\"#9c179e\"],[0.4444444444444444,\"#bd3786\"],[0.5555555555555556,\"#d8576b\"],[0.6666666666666666,\"#ed7953\"],[0.7777777777777778,\"#fb9f3a\"],[0.8888888888888888,\"#fdca26\"],[1.0,\"#f0f921\"]],\"diverging\":[[0,\"#8e0152\"],[0.1,\"#c51b7d\"],[0.2,\"#de77ae\"],[0.3,\"#f1b6da\"],[0.4,\"#fde0ef\"],[0.5,\"#f7f7f7\"],[0.6,\"#e6f5d0\"],[0.7,\"#b8e186\"],[0.8,\"#7fbc41\"],[0.9,\"#4d9221\"],[1,\"#276419\"]]},\"xaxis\":{\"gridcolor\":\"white\",\"linecolor\":\"white\",\"ticks\":\"\",\"title\":{\"standoff\":15},\"zerolinecolor\":\"white\",\"automargin\":true,\"zerolinewidth\":2},\"yaxis\":{\"gridcolor\":\"white\",\"linecolor\":\"white\",\"ticks\":\"\",\"title\":{\"standoff\":15},\"zerolinecolor\":\"white\",\"automargin\":true,\"zerolinewidth\":2},\"scene\":{\"xaxis\":{\"backgroundcolor\":\"#E5ECF6\",\"gridcolor\":\"white\",\"linecolor\":\"white\",\"showbackground\":true,\"ticks\":\"\",\"zerolinecolor\":\"white\",\"gridwidth\":2},\"yaxis\":{\"backgroundcolor\":\"#E5ECF6\",\"gridcolor\":\"white\",\"linecolor\":\"white\",\"showbackground\":true,\"ticks\":\"\",\"zerolinecolor\":\"white\",\"gridwidth\":2},\"zaxis\":{\"backgroundcolor\":\"#E5ECF6\",\"gridcolor\":\"white\",\"linecolor\":\"white\",\"showbackground\":true,\"ticks\":\"\",\"zerolinecolor\":\"white\",\"gridwidth\":2}},\"shapedefaults\":{\"line\":{\"color\":\"#2a3f5f\"}},\"annotationdefaults\":{\"arrowcolor\":\"#2a3f5f\",\"arrowhead\":0,\"arrowwidth\":1},\"geo\":{\"bgcolor\":\"white\",\"landcolor\":\"#E5ECF6\",\"subunitcolor\":\"white\",\"showland\":true,\"showlakes\":true,\"lakecolor\":\"white\"},\"title\":{\"x\":0.05},\"mapbox\":{\"style\":\"light\"}}},\"coloraxis\":{\"colorbar\":{\"title\":{\"text\":\"Customer_Count\"}},\"colorscale\":[[0.0,\"rgb(247,251,255)\"],[0.125,\"rgb(222,235,247)\"],[0.25,\"rgb(198,219,239)\"],[0.375,\"rgb(158,202,225)\"],[0.5,\"rgb(107,174,214)\"],[0.625,\"rgb(66,146,198)\"],[0.75,\"rgb(33,113,181)\"],[0.875,\"rgb(8,81,156)\"],[1.0,\"rgb(8,48,107)\"]]},\"legend\":{\"tracegroupgap\":0},\"title\":{\"text\":\"Customer Distribution by Segment\"}},                        {\"responsive\": true}                    ).then(function(){\n",
       "                            \n",
       "var gd = document.getElementById('1a86ca4e-8d09-46cd-9f47-5bac76d0f960');\n",
       "var x = new MutationObserver(function (mutations, observer) {{\n",
       "        var display = window.getComputedStyle(gd).display;\n",
       "        if (!display || display === 'none') {{\n",
       "            console.log([gd, 'removed!']);\n",
       "            Plotly.purge(gd);\n",
       "            observer.disconnect();\n",
       "        }}\n",
       "}});\n",
       "\n",
       "// Listen for the removal of the full notebook cells\n",
       "var notebookContainer = gd.closest('#notebook-container');\n",
       "if (notebookContainer) {{\n",
       "    x.observe(notebookContainer, {childList: true});\n",
       "}}\n",
       "\n",
       "// Listen for the clearing of the current output cell\n",
       "var outputEl = gd.closest('.output');\n",
       "if (outputEl) {{\n",
       "    x.observe(outputEl, {childList: true});\n",
       "}}\n",
       "\n",
       "                        })                };                });            </script>        </div>"
      ]
     },
     "metadata": {},
     "output_type": "display_data"
    }
   ],
   "source": [
    "import plotly.express as px\n",
    "import pandas as pd\n",
    "\n",
    "# Manually creating the DataFrame from your provided data\n",
    "data = {\n",
    "    \"Segment\": [\n",
    "        \"About to Sleep\", \"At Risk\", \"Can't Loose\", \"Champions\", \"Hibernating\", \n",
    "        \"Loyal Customers\", \"Need Attention\", \"New Customers\", \n",
    "        \"Potential Loyalists\", \"Promising\"\n",
    "    ],\n",
    "    \"Customer_Count\": [353, 594, 64, 632, 1069, 820, 184, 42, 486, 95]\n",
    "}\n",
    "\n",
    "# Convert to DataFrame\n",
    "rfmStats2 = pd.DataFrame(data)\n",
    "\n",
    "# Create Treemap\n",
    "fig = px.treemap(rfmStats2, \n",
    "                 path=['Segment'], \n",
    "                 values='Customer_Count',  \n",
    "                 color='Customer_Count',  \n",
    "                 color_continuous_scale='blues',\n",
    "                 title=\"Customer Distribution by Segment\")\n",
    "\n",
    "fig.show()"
   ]
  },
  {
   "cell_type": "code",
   "execution_count": null,
   "id": "fec1c6f3",
   "metadata": {},
   "outputs": [],
   "source": []
  }
 ],
 "metadata": {
  "kernelspec": {
   "display_name": "Python 3 (ipykernel)",
   "language": "python",
   "name": "python3"
  },
  "language_info": {
   "codemirror_mode": {
    "name": "ipython",
    "version": 3
   },
   "file_extension": ".py",
   "mimetype": "text/x-python",
   "name": "python",
   "nbconvert_exporter": "python",
   "pygments_lexer": "ipython3",
   "version": "3.11.4"
  }
 },
 "nbformat": 4,
 "nbformat_minor": 5
}
